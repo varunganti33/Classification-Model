{
 "cells": [
  {
   "cell_type": "markdown",
   "metadata": {},
   "source": [
    "## Week 4, Lab 1: Predicting Left-Handedness from Psychological Factors\n",
    "> Author: Matt Brems\n",
    "\n",
    "We can sketch out the data science process as follows:\n",
    "1. Define the problem.\n",
    "2. Obtain the data.\n",
    "3. Explore the data.\n",
    "4. Model the data.\n",
    "5. Evaluate the model.\n",
    "6. Answer the problem.\n",
    "\n",
    "We'll walk through a full data science problem in this lab. "
   ]
  },
  {
   "cell_type": "markdown",
   "metadata": {},
   "source": [
    "---\n",
    "## Step 1: Define The Problem.\n",
    "\n",
    "You're currently a data scientist working at a university. A professor of psychology is attempting to study the relationship between personalities and left-handedness. They have tasked you with gathering evidence so that they may publish.\n",
    "\n",
    "Specifically, the professor says \"I need to prove that left-handedness is caused by some personality trait. Go find that personality trait and the data to back it up.\"\n",
    "\n",
    "As a data scientist, you know that any real data science problem must be **specific** and **conclusively answerable**. For example:\n",
    "- Bad data science problem: \"What is the link between obesity and blood pressure?\"\n",
    "    - This is vague and is not conclusively answerable. That is, two people might look at the conclusion and one may say \"Sure, the problem has been answered!\" and the other may say \"The problem has not yet been answered.\"\n",
    "- Good data science problem: \"Does an association exist between obesity and blood pressure?\"\n",
    "    - This is more specific and is conclusively answerable. The problem specifically is asking for a \"Yes\" or \"No\" answer. Based on that, two independent people should both be able to say either \"Yes, the problem has been answered\" or \"No, the problem has not yet been answered.\"\n",
    "- Excellent data science problem: \"As obesity increases, how does blood pressure change?\"\n",
    "    - This is very specific and is conclusively answerable. The problem specifically seeks to understand the effect of one variable on the other.\n",
    "\n",
    "### 1. In the context of the left-handedness and personality example, what are three specific and conclusively answerable problems that you could answer using data science? \n",
    "\n",
    "> You might find it helpful to check out the codebook in the repo for some inspiration."
   ]
  },
  {
   "cell_type": "markdown",
   "metadata": {},
   "source": [
    "Answer:\n",
    "\n",
    "1) How likely is someone to be left handed due to personality traits?\n",
    "\n",
    "2) Do left handers agree with personality traits more than right handers?\n",
    "\n",
    "3) Does religion affect the production left or right handers?"
   ]
  },
  {
   "cell_type": "markdown",
   "metadata": {},
   "source": [
    "---\n",
    "## Step 2: Obtain the data.\n",
    "\n",
    "### 2. Read in the file titled \"data.csv.\"\n",
    "> Hint: Despite being saved as a .csv file, you won't be able to simply `pd.read_csv()` this data!"
   ]
  },
  {
   "cell_type": "code",
   "execution_count": 88,
   "metadata": {},
   "outputs": [],
   "source": [
    "\n",
    "import pandas as pd\n",
    "import numpy as np\n",
    "import seaborn as sns\n",
    "import matplotlib.pyplot as plt\n",
    "\n",
    "from sklearn.linear_model import LinearRegression, LogisticRegression"
   ]
  },
  {
   "cell_type": "code",
   "execution_count": 89,
   "metadata": {},
   "outputs": [],
   "source": [
    "df = pd.read_csv('./data.csv', sep='\\t')"
   ]
  },
  {
   "cell_type": "code",
   "execution_count": 90,
   "metadata": {},
   "outputs": [
    {
     "data": {
      "text/html": [
       "<div>\n",
       "<style scoped>\n",
       "    .dataframe tbody tr th:only-of-type {\n",
       "        vertical-align: middle;\n",
       "    }\n",
       "\n",
       "    .dataframe tbody tr th {\n",
       "        vertical-align: top;\n",
       "    }\n",
       "\n",
       "    .dataframe thead th {\n",
       "        text-align: right;\n",
       "    }\n",
       "</style>\n",
       "<table border=\"1\" class=\"dataframe\">\n",
       "  <thead>\n",
       "    <tr style=\"text-align: right;\">\n",
       "      <th></th>\n",
       "      <th>Q1</th>\n",
       "      <th>Q2</th>\n",
       "      <th>Q3</th>\n",
       "      <th>Q4</th>\n",
       "      <th>Q5</th>\n",
       "      <th>Q6</th>\n",
       "      <th>Q7</th>\n",
       "      <th>Q8</th>\n",
       "      <th>Q9</th>\n",
       "      <th>Q10</th>\n",
       "      <th>...</th>\n",
       "      <th>country</th>\n",
       "      <th>fromgoogle</th>\n",
       "      <th>engnat</th>\n",
       "      <th>age</th>\n",
       "      <th>education</th>\n",
       "      <th>gender</th>\n",
       "      <th>orientation</th>\n",
       "      <th>race</th>\n",
       "      <th>religion</th>\n",
       "      <th>hand</th>\n",
       "    </tr>\n",
       "  </thead>\n",
       "  <tbody>\n",
       "    <tr>\n",
       "      <th>0</th>\n",
       "      <td>4</td>\n",
       "      <td>1</td>\n",
       "      <td>5</td>\n",
       "      <td>1</td>\n",
       "      <td>5</td>\n",
       "      <td>1</td>\n",
       "      <td>5</td>\n",
       "      <td>1</td>\n",
       "      <td>4</td>\n",
       "      <td>1</td>\n",
       "      <td>...</td>\n",
       "      <td>US</td>\n",
       "      <td>2</td>\n",
       "      <td>1</td>\n",
       "      <td>22</td>\n",
       "      <td>3</td>\n",
       "      <td>1</td>\n",
       "      <td>1</td>\n",
       "      <td>3</td>\n",
       "      <td>2</td>\n",
       "      <td>3</td>\n",
       "    </tr>\n",
       "    <tr>\n",
       "      <th>1</th>\n",
       "      <td>1</td>\n",
       "      <td>5</td>\n",
       "      <td>1</td>\n",
       "      <td>4</td>\n",
       "      <td>2</td>\n",
       "      <td>5</td>\n",
       "      <td>5</td>\n",
       "      <td>4</td>\n",
       "      <td>1</td>\n",
       "      <td>5</td>\n",
       "      <td>...</td>\n",
       "      <td>CA</td>\n",
       "      <td>2</td>\n",
       "      <td>1</td>\n",
       "      <td>14</td>\n",
       "      <td>1</td>\n",
       "      <td>2</td>\n",
       "      <td>2</td>\n",
       "      <td>6</td>\n",
       "      <td>1</td>\n",
       "      <td>1</td>\n",
       "    </tr>\n",
       "    <tr>\n",
       "      <th>2</th>\n",
       "      <td>1</td>\n",
       "      <td>2</td>\n",
       "      <td>1</td>\n",
       "      <td>1</td>\n",
       "      <td>5</td>\n",
       "      <td>4</td>\n",
       "      <td>3</td>\n",
       "      <td>2</td>\n",
       "      <td>1</td>\n",
       "      <td>4</td>\n",
       "      <td>...</td>\n",
       "      <td>NL</td>\n",
       "      <td>2</td>\n",
       "      <td>2</td>\n",
       "      <td>30</td>\n",
       "      <td>4</td>\n",
       "      <td>1</td>\n",
       "      <td>1</td>\n",
       "      <td>1</td>\n",
       "      <td>1</td>\n",
       "      <td>2</td>\n",
       "    </tr>\n",
       "    <tr>\n",
       "      <th>3</th>\n",
       "      <td>1</td>\n",
       "      <td>4</td>\n",
       "      <td>1</td>\n",
       "      <td>5</td>\n",
       "      <td>1</td>\n",
       "      <td>4</td>\n",
       "      <td>5</td>\n",
       "      <td>4</td>\n",
       "      <td>3</td>\n",
       "      <td>5</td>\n",
       "      <td>...</td>\n",
       "      <td>US</td>\n",
       "      <td>2</td>\n",
       "      <td>1</td>\n",
       "      <td>18</td>\n",
       "      <td>2</td>\n",
       "      <td>2</td>\n",
       "      <td>5</td>\n",
       "      <td>3</td>\n",
       "      <td>2</td>\n",
       "      <td>2</td>\n",
       "    </tr>\n",
       "    <tr>\n",
       "      <th>4</th>\n",
       "      <td>5</td>\n",
       "      <td>1</td>\n",
       "      <td>5</td>\n",
       "      <td>1</td>\n",
       "      <td>5</td>\n",
       "      <td>1</td>\n",
       "      <td>5</td>\n",
       "      <td>1</td>\n",
       "      <td>3</td>\n",
       "      <td>1</td>\n",
       "      <td>...</td>\n",
       "      <td>US</td>\n",
       "      <td>2</td>\n",
       "      <td>1</td>\n",
       "      <td>22</td>\n",
       "      <td>3</td>\n",
       "      <td>1</td>\n",
       "      <td>1</td>\n",
       "      <td>3</td>\n",
       "      <td>2</td>\n",
       "      <td>3</td>\n",
       "    </tr>\n",
       "  </tbody>\n",
       "</table>\n",
       "<p>5 rows × 56 columns</p>\n",
       "</div>"
      ],
      "text/plain": [
       "   Q1  Q2  Q3  Q4  Q5  Q6  Q7  Q8  Q9  Q10  ...  country  fromgoogle  engnat  \\\n",
       "0   4   1   5   1   5   1   5   1   4    1  ...       US           2       1   \n",
       "1   1   5   1   4   2   5   5   4   1    5  ...       CA           2       1   \n",
       "2   1   2   1   1   5   4   3   2   1    4  ...       NL           2       2   \n",
       "3   1   4   1   5   1   4   5   4   3    5  ...       US           2       1   \n",
       "4   5   1   5   1   5   1   5   1   3    1  ...       US           2       1   \n",
       "\n",
       "   age  education  gender  orientation  race  religion  hand  \n",
       "0   22          3       1            1     3         2     3  \n",
       "1   14          1       2            2     6         1     1  \n",
       "2   30          4       1            1     1         1     2  \n",
       "3   18          2       2            5     3         2     2  \n",
       "4   22          3       1            1     3         2     3  \n",
       "\n",
       "[5 rows x 56 columns]"
      ]
     },
     "execution_count": 90,
     "metadata": {},
     "output_type": "execute_result"
    }
   ],
   "source": [
    "df.head()"
   ]
  },
  {
   "cell_type": "markdown",
   "metadata": {},
   "source": [
    "### 3. Suppose that, instead of us giving you this data in a file, you were actually conducting a survey to gather this data yourself. From an ethics/privacy point of view, what are three things you might consider when attempting to gather this data?\n",
    "> When working with sensitive data like sexual orientation or gender identity, we need to consider how this data could be used if it fell into the wrong hands!"
   ]
  },
  {
   "cell_type": "markdown",
   "metadata": {},
   "source": [
    "Answer:\n",
    "\n",
    "1) Encrypted answers that are done digitially instead of hand written notes\n",
    "\n",
    "2) Annonymous responses\n",
    "\n",
    "3) Surveys should be done in a private room\n"
   ]
  },
  {
   "cell_type": "markdown",
   "metadata": {},
   "source": [
    "---\n",
    "## Step 3: Explore the data.\n",
    "\n",
    "### 4. Conduct exploratory data analysis on this dataset.\n",
    "> If you haven't already, be sure to check out the codebook in the repo, as that will help in your EDA process."
   ]
  },
  {
   "cell_type": "code",
   "execution_count": 91,
   "metadata": {
    "scrolled": true
   },
   "outputs": [
    {
     "data": {
      "text/plain": [
       "Index(['Q1', 'Q2', 'Q3', 'Q4', 'Q5', 'Q6', 'Q7', 'Q8', 'Q9', 'Q10', 'Q11',\n",
       "       'Q12', 'Q13', 'Q14', 'Q15', 'Q16', 'Q17', 'Q18', 'Q19', 'Q20', 'Q21',\n",
       "       'Q22', 'Q23', 'Q24', 'Q25', 'Q26', 'Q27', 'Q28', 'Q29', 'Q30', 'Q31',\n",
       "       'Q32', 'Q33', 'Q34', 'Q35', 'Q36', 'Q37', 'Q38', 'Q39', 'Q40', 'Q41',\n",
       "       'Q42', 'Q43', 'Q44', 'introelapse', 'testelapse', 'country',\n",
       "       'fromgoogle', 'engnat', 'age', 'education', 'gender', 'orientation',\n",
       "       'race', 'religion', 'hand'],\n",
       "      dtype='object')"
      ]
     },
     "execution_count": 91,
     "metadata": {},
     "output_type": "execute_result"
    }
   ],
   "source": [
    "df.columns"
   ]
  },
  {
   "cell_type": "code",
   "execution_count": 92,
   "metadata": {
    "scrolled": true
   },
   "outputs": [
    {
     "data": {
      "text/plain": [
       "Q1             0\n",
       "Q2             0\n",
       "Q3             0\n",
       "Q4             0\n",
       "Q5             0\n",
       "Q6             0\n",
       "Q7             0\n",
       "Q8             0\n",
       "Q9             0\n",
       "Q10            0\n",
       "Q11            0\n",
       "Q12            0\n",
       "Q13            0\n",
       "Q14            0\n",
       "Q15            0\n",
       "Q16            0\n",
       "Q17            0\n",
       "Q18            0\n",
       "Q19            0\n",
       "Q20            0\n",
       "Q21            0\n",
       "Q22            0\n",
       "Q23            0\n",
       "Q24            0\n",
       "Q25            0\n",
       "Q26            0\n",
       "Q27            0\n",
       "Q28            0\n",
       "Q29            0\n",
       "Q30            0\n",
       "Q31            0\n",
       "Q32            0\n",
       "Q33            0\n",
       "Q34            0\n",
       "Q35            0\n",
       "Q36            0\n",
       "Q37            0\n",
       "Q38            0\n",
       "Q39            0\n",
       "Q40            0\n",
       "Q41            0\n",
       "Q42            0\n",
       "Q43            0\n",
       "Q44            0\n",
       "introelapse    0\n",
       "testelapse     0\n",
       "country        0\n",
       "fromgoogle     0\n",
       "engnat         0\n",
       "age            0\n",
       "education      0\n",
       "gender         0\n",
       "orientation    0\n",
       "race           0\n",
       "religion       0\n",
       "hand           0\n",
       "dtype: int64"
      ]
     },
     "execution_count": 92,
     "metadata": {},
     "output_type": "execute_result"
    }
   ],
   "source": [
    "df.isnull().sum()"
   ]
  },
  {
   "cell_type": "code",
   "execution_count": 93,
   "metadata": {},
   "outputs": [
    {
     "data": {
      "text/html": [
       "<div>\n",
       "<style scoped>\n",
       "    .dataframe tbody tr th:only-of-type {\n",
       "        vertical-align: middle;\n",
       "    }\n",
       "\n",
       "    .dataframe tbody tr th {\n",
       "        vertical-align: top;\n",
       "    }\n",
       "\n",
       "    .dataframe thead th {\n",
       "        text-align: right;\n",
       "    }\n",
       "</style>\n",
       "<table border=\"1\" class=\"dataframe\">\n",
       "  <thead>\n",
       "    <tr style=\"text-align: right;\">\n",
       "      <th></th>\n",
       "      <th>count</th>\n",
       "      <th>mean</th>\n",
       "      <th>std</th>\n",
       "      <th>min</th>\n",
       "      <th>25%</th>\n",
       "      <th>50%</th>\n",
       "      <th>75%</th>\n",
       "      <th>max</th>\n",
       "    </tr>\n",
       "  </thead>\n",
       "  <tbody>\n",
       "    <tr>\n",
       "      <th>Q1</th>\n",
       "      <td>4184.0</td>\n",
       "      <td>1.962715</td>\n",
       "      <td>1.360291</td>\n",
       "      <td>0.0</td>\n",
       "      <td>1.0</td>\n",
       "      <td>1.0</td>\n",
       "      <td>3.00</td>\n",
       "      <td>5.0</td>\n",
       "    </tr>\n",
       "    <tr>\n",
       "      <th>Q2</th>\n",
       "      <td>4184.0</td>\n",
       "      <td>3.829589</td>\n",
       "      <td>1.551683</td>\n",
       "      <td>0.0</td>\n",
       "      <td>3.0</td>\n",
       "      <td>5.0</td>\n",
       "      <td>5.00</td>\n",
       "      <td>5.0</td>\n",
       "    </tr>\n",
       "    <tr>\n",
       "      <th>Q3</th>\n",
       "      <td>4184.0</td>\n",
       "      <td>2.846558</td>\n",
       "      <td>1.664804</td>\n",
       "      <td>0.0</td>\n",
       "      <td>1.0</td>\n",
       "      <td>3.0</td>\n",
       "      <td>5.00</td>\n",
       "      <td>5.0</td>\n",
       "    </tr>\n",
       "    <tr>\n",
       "      <th>Q4</th>\n",
       "      <td>4184.0</td>\n",
       "      <td>3.186902</td>\n",
       "      <td>1.476879</td>\n",
       "      <td>0.0</td>\n",
       "      <td>2.0</td>\n",
       "      <td>3.0</td>\n",
       "      <td>5.00</td>\n",
       "      <td>5.0</td>\n",
       "    </tr>\n",
       "    <tr>\n",
       "      <th>Q5</th>\n",
       "      <td>4184.0</td>\n",
       "      <td>2.865440</td>\n",
       "      <td>1.545798</td>\n",
       "      <td>0.0</td>\n",
       "      <td>1.0</td>\n",
       "      <td>3.0</td>\n",
       "      <td>4.00</td>\n",
       "      <td>5.0</td>\n",
       "    </tr>\n",
       "    <tr>\n",
       "      <th>Q6</th>\n",
       "      <td>4184.0</td>\n",
       "      <td>3.672084</td>\n",
       "      <td>1.342238</td>\n",
       "      <td>0.0</td>\n",
       "      <td>3.0</td>\n",
       "      <td>4.0</td>\n",
       "      <td>5.00</td>\n",
       "      <td>5.0</td>\n",
       "    </tr>\n",
       "    <tr>\n",
       "      <th>Q7</th>\n",
       "      <td>4184.0</td>\n",
       "      <td>3.216539</td>\n",
       "      <td>1.490733</td>\n",
       "      <td>0.0</td>\n",
       "      <td>2.0</td>\n",
       "      <td>3.0</td>\n",
       "      <td>5.00</td>\n",
       "      <td>5.0</td>\n",
       "    </tr>\n",
       "    <tr>\n",
       "      <th>Q8</th>\n",
       "      <td>4184.0</td>\n",
       "      <td>3.184512</td>\n",
       "      <td>1.387382</td>\n",
       "      <td>0.0</td>\n",
       "      <td>2.0</td>\n",
       "      <td>3.0</td>\n",
       "      <td>4.00</td>\n",
       "      <td>5.0</td>\n",
       "    </tr>\n",
       "    <tr>\n",
       "      <th>Q9</th>\n",
       "      <td>4184.0</td>\n",
       "      <td>2.761233</td>\n",
       "      <td>1.511805</td>\n",
       "      <td>0.0</td>\n",
       "      <td>1.0</td>\n",
       "      <td>3.0</td>\n",
       "      <td>4.00</td>\n",
       "      <td>5.0</td>\n",
       "    </tr>\n",
       "    <tr>\n",
       "      <th>Q10</th>\n",
       "      <td>4184.0</td>\n",
       "      <td>3.522945</td>\n",
       "      <td>1.242890</td>\n",
       "      <td>0.0</td>\n",
       "      <td>3.0</td>\n",
       "      <td>4.0</td>\n",
       "      <td>5.00</td>\n",
       "      <td>5.0</td>\n",
       "    </tr>\n",
       "    <tr>\n",
       "      <th>Q11</th>\n",
       "      <td>4184.0</td>\n",
       "      <td>2.748805</td>\n",
       "      <td>1.443078</td>\n",
       "      <td>0.0</td>\n",
       "      <td>1.0</td>\n",
       "      <td>3.0</td>\n",
       "      <td>4.00</td>\n",
       "      <td>5.0</td>\n",
       "    </tr>\n",
       "    <tr>\n",
       "      <th>Q12</th>\n",
       "      <td>4184.0</td>\n",
       "      <td>2.852772</td>\n",
       "      <td>1.556284</td>\n",
       "      <td>0.0</td>\n",
       "      <td>1.0</td>\n",
       "      <td>3.0</td>\n",
       "      <td>4.00</td>\n",
       "      <td>5.0</td>\n",
       "    </tr>\n",
       "    <tr>\n",
       "      <th>Q13</th>\n",
       "      <td>4184.0</td>\n",
       "      <td>2.657505</td>\n",
       "      <td>1.559575</td>\n",
       "      <td>0.0</td>\n",
       "      <td>1.0</td>\n",
       "      <td>3.0</td>\n",
       "      <td>4.00</td>\n",
       "      <td>5.0</td>\n",
       "    </tr>\n",
       "    <tr>\n",
       "      <th>Q14</th>\n",
       "      <td>4184.0</td>\n",
       "      <td>3.334130</td>\n",
       "      <td>1.522866</td>\n",
       "      <td>0.0</td>\n",
       "      <td>2.0</td>\n",
       "      <td>4.0</td>\n",
       "      <td>5.00</td>\n",
       "      <td>5.0</td>\n",
       "    </tr>\n",
       "    <tr>\n",
       "      <th>Q15</th>\n",
       "      <td>4184.0</td>\n",
       "      <td>3.168021</td>\n",
       "      <td>1.501683</td>\n",
       "      <td>0.0</td>\n",
       "      <td>2.0</td>\n",
       "      <td>3.0</td>\n",
       "      <td>5.00</td>\n",
       "      <td>5.0</td>\n",
       "    </tr>\n",
       "    <tr>\n",
       "      <th>Q16</th>\n",
       "      <td>4184.0</td>\n",
       "      <td>2.930210</td>\n",
       "      <td>1.575544</td>\n",
       "      <td>0.0</td>\n",
       "      <td>1.0</td>\n",
       "      <td>3.0</td>\n",
       "      <td>4.00</td>\n",
       "      <td>5.0</td>\n",
       "    </tr>\n",
       "    <tr>\n",
       "      <th>Q17</th>\n",
       "      <td>4184.0</td>\n",
       "      <td>2.564771</td>\n",
       "      <td>1.619010</td>\n",
       "      <td>0.0</td>\n",
       "      <td>1.0</td>\n",
       "      <td>2.0</td>\n",
       "      <td>4.00</td>\n",
       "      <td>5.0</td>\n",
       "    </tr>\n",
       "    <tr>\n",
       "      <th>Q18</th>\n",
       "      <td>4184.0</td>\n",
       "      <td>3.424952</td>\n",
       "      <td>1.413236</td>\n",
       "      <td>0.0</td>\n",
       "      <td>2.0</td>\n",
       "      <td>4.0</td>\n",
       "      <td>5.00</td>\n",
       "      <td>5.0</td>\n",
       "    </tr>\n",
       "    <tr>\n",
       "      <th>Q19</th>\n",
       "      <td>4184.0</td>\n",
       "      <td>2.928537</td>\n",
       "      <td>1.493122</td>\n",
       "      <td>0.0</td>\n",
       "      <td>2.0</td>\n",
       "      <td>3.0</td>\n",
       "      <td>4.00</td>\n",
       "      <td>5.0</td>\n",
       "    </tr>\n",
       "    <tr>\n",
       "      <th>Q20</th>\n",
       "      <td>4184.0</td>\n",
       "      <td>3.639818</td>\n",
       "      <td>1.414569</td>\n",
       "      <td>0.0</td>\n",
       "      <td>3.0</td>\n",
       "      <td>4.0</td>\n",
       "      <td>5.00</td>\n",
       "      <td>5.0</td>\n",
       "    </tr>\n",
       "    <tr>\n",
       "      <th>Q21</th>\n",
       "      <td>4184.0</td>\n",
       "      <td>2.867591</td>\n",
       "      <td>1.360858</td>\n",
       "      <td>0.0</td>\n",
       "      <td>2.0</td>\n",
       "      <td>3.0</td>\n",
       "      <td>4.00</td>\n",
       "      <td>5.0</td>\n",
       "    </tr>\n",
       "    <tr>\n",
       "      <th>Q22</th>\n",
       "      <td>4184.0</td>\n",
       "      <td>3.595124</td>\n",
       "      <td>1.354475</td>\n",
       "      <td>0.0</td>\n",
       "      <td>3.0</td>\n",
       "      <td>4.0</td>\n",
       "      <td>5.00</td>\n",
       "      <td>5.0</td>\n",
       "    </tr>\n",
       "    <tr>\n",
       "      <th>Q23</th>\n",
       "      <td>4184.0</td>\n",
       "      <td>3.861138</td>\n",
       "      <td>1.291425</td>\n",
       "      <td>0.0</td>\n",
       "      <td>3.0</td>\n",
       "      <td>4.0</td>\n",
       "      <td>5.00</td>\n",
       "      <td>5.0</td>\n",
       "    </tr>\n",
       "    <tr>\n",
       "      <th>Q24</th>\n",
       "      <td>4184.0</td>\n",
       "      <td>3.337237</td>\n",
       "      <td>1.426095</td>\n",
       "      <td>0.0</td>\n",
       "      <td>2.0</td>\n",
       "      <td>3.0</td>\n",
       "      <td>5.00</td>\n",
       "      <td>5.0</td>\n",
       "    </tr>\n",
       "    <tr>\n",
       "      <th>Q25</th>\n",
       "      <td>4184.0</td>\n",
       "      <td>1.999761</td>\n",
       "      <td>1.290747</td>\n",
       "      <td>0.0</td>\n",
       "      <td>1.0</td>\n",
       "      <td>1.0</td>\n",
       "      <td>3.00</td>\n",
       "      <td>5.0</td>\n",
       "    </tr>\n",
       "    <tr>\n",
       "      <th>Q26</th>\n",
       "      <td>4184.0</td>\n",
       "      <td>3.001434</td>\n",
       "      <td>1.480610</td>\n",
       "      <td>0.0</td>\n",
       "      <td>2.0</td>\n",
       "      <td>3.0</td>\n",
       "      <td>4.00</td>\n",
       "      <td>5.0</td>\n",
       "    </tr>\n",
       "    <tr>\n",
       "      <th>Q27</th>\n",
       "      <td>4184.0</td>\n",
       "      <td>2.730641</td>\n",
       "      <td>1.485883</td>\n",
       "      <td>0.0</td>\n",
       "      <td>1.0</td>\n",
       "      <td>3.0</td>\n",
       "      <td>4.00</td>\n",
       "      <td>5.0</td>\n",
       "    </tr>\n",
       "    <tr>\n",
       "      <th>Q28</th>\n",
       "      <td>4184.0</td>\n",
       "      <td>2.624044</td>\n",
       "      <td>1.481709</td>\n",
       "      <td>0.0</td>\n",
       "      <td>1.0</td>\n",
       "      <td>3.0</td>\n",
       "      <td>4.00</td>\n",
       "      <td>5.0</td>\n",
       "    </tr>\n",
       "    <tr>\n",
       "      <th>Q29</th>\n",
       "      <td>4184.0</td>\n",
       "      <td>2.543738</td>\n",
       "      <td>1.611428</td>\n",
       "      <td>0.0</td>\n",
       "      <td>1.0</td>\n",
       "      <td>2.0</td>\n",
       "      <td>4.00</td>\n",
       "      <td>5.0</td>\n",
       "    </tr>\n",
       "    <tr>\n",
       "      <th>Q30</th>\n",
       "      <td>4184.0</td>\n",
       "      <td>2.894359</td>\n",
       "      <td>1.477968</td>\n",
       "      <td>0.0</td>\n",
       "      <td>1.0</td>\n",
       "      <td>3.0</td>\n",
       "      <td>4.00</td>\n",
       "      <td>5.0</td>\n",
       "    </tr>\n",
       "    <tr>\n",
       "      <th>Q31</th>\n",
       "      <td>4184.0</td>\n",
       "      <td>3.002151</td>\n",
       "      <td>1.420032</td>\n",
       "      <td>0.0</td>\n",
       "      <td>2.0</td>\n",
       "      <td>3.0</td>\n",
       "      <td>4.00</td>\n",
       "      <td>5.0</td>\n",
       "    </tr>\n",
       "    <tr>\n",
       "      <th>Q32</th>\n",
       "      <td>4184.0</td>\n",
       "      <td>2.869503</td>\n",
       "      <td>1.659141</td>\n",
       "      <td>0.0</td>\n",
       "      <td>1.0</td>\n",
       "      <td>3.0</td>\n",
       "      <td>5.00</td>\n",
       "      <td>5.0</td>\n",
       "    </tr>\n",
       "    <tr>\n",
       "      <th>Q33</th>\n",
       "      <td>4184.0</td>\n",
       "      <td>2.741874</td>\n",
       "      <td>1.405670</td>\n",
       "      <td>0.0</td>\n",
       "      <td>1.0</td>\n",
       "      <td>3.0</td>\n",
       "      <td>4.00</td>\n",
       "      <td>5.0</td>\n",
       "    </tr>\n",
       "    <tr>\n",
       "      <th>Q34</th>\n",
       "      <td>4184.0</td>\n",
       "      <td>3.022228</td>\n",
       "      <td>1.562694</td>\n",
       "      <td>0.0</td>\n",
       "      <td>1.0</td>\n",
       "      <td>3.0</td>\n",
       "      <td>4.00</td>\n",
       "      <td>5.0</td>\n",
       "    </tr>\n",
       "    <tr>\n",
       "      <th>Q35</th>\n",
       "      <td>4184.0</td>\n",
       "      <td>3.074092</td>\n",
       "      <td>1.546400</td>\n",
       "      <td>0.0</td>\n",
       "      <td>1.0</td>\n",
       "      <td>3.0</td>\n",
       "      <td>5.00</td>\n",
       "      <td>5.0</td>\n",
       "    </tr>\n",
       "    <tr>\n",
       "      <th>Q36</th>\n",
       "      <td>4184.0</td>\n",
       "      <td>2.610660</td>\n",
       "      <td>1.409707</td>\n",
       "      <td>0.0</td>\n",
       "      <td>1.0</td>\n",
       "      <td>2.0</td>\n",
       "      <td>4.00</td>\n",
       "      <td>5.0</td>\n",
       "    </tr>\n",
       "    <tr>\n",
       "      <th>Q37</th>\n",
       "      <td>4184.0</td>\n",
       "      <td>3.465344</td>\n",
       "      <td>1.521460</td>\n",
       "      <td>0.0</td>\n",
       "      <td>2.0</td>\n",
       "      <td>4.0</td>\n",
       "      <td>5.00</td>\n",
       "      <td>5.0</td>\n",
       "    </tr>\n",
       "    <tr>\n",
       "      <th>Q38</th>\n",
       "      <td>4184.0</td>\n",
       "      <td>2.798757</td>\n",
       "      <td>1.413584</td>\n",
       "      <td>0.0</td>\n",
       "      <td>1.0</td>\n",
       "      <td>3.0</td>\n",
       "      <td>4.00</td>\n",
       "      <td>5.0</td>\n",
       "    </tr>\n",
       "    <tr>\n",
       "      <th>Q39</th>\n",
       "      <td>4184.0</td>\n",
       "      <td>2.569312</td>\n",
       "      <td>1.621772</td>\n",
       "      <td>0.0</td>\n",
       "      <td>1.0</td>\n",
       "      <td>2.0</td>\n",
       "      <td>4.00</td>\n",
       "      <td>5.0</td>\n",
       "    </tr>\n",
       "    <tr>\n",
       "      <th>Q40</th>\n",
       "      <td>4184.0</td>\n",
       "      <td>2.984226</td>\n",
       "      <td>1.483752</td>\n",
       "      <td>0.0</td>\n",
       "      <td>2.0</td>\n",
       "      <td>3.0</td>\n",
       "      <td>4.00</td>\n",
       "      <td>5.0</td>\n",
       "    </tr>\n",
       "    <tr>\n",
       "      <th>Q41</th>\n",
       "      <td>4184.0</td>\n",
       "      <td>3.385277</td>\n",
       "      <td>1.423055</td>\n",
       "      <td>0.0</td>\n",
       "      <td>2.0</td>\n",
       "      <td>4.0</td>\n",
       "      <td>5.00</td>\n",
       "      <td>5.0</td>\n",
       "    </tr>\n",
       "    <tr>\n",
       "      <th>Q42</th>\n",
       "      <td>4184.0</td>\n",
       "      <td>2.704828</td>\n",
       "      <td>1.544345</td>\n",
       "      <td>0.0</td>\n",
       "      <td>1.0</td>\n",
       "      <td>3.0</td>\n",
       "      <td>4.00</td>\n",
       "      <td>5.0</td>\n",
       "    </tr>\n",
       "    <tr>\n",
       "      <th>Q43</th>\n",
       "      <td>4184.0</td>\n",
       "      <td>2.676386</td>\n",
       "      <td>1.523097</td>\n",
       "      <td>0.0</td>\n",
       "      <td>1.0</td>\n",
       "      <td>3.0</td>\n",
       "      <td>4.00</td>\n",
       "      <td>5.0</td>\n",
       "    </tr>\n",
       "    <tr>\n",
       "      <th>Q44</th>\n",
       "      <td>4184.0</td>\n",
       "      <td>2.736616</td>\n",
       "      <td>1.471845</td>\n",
       "      <td>0.0</td>\n",
       "      <td>1.0</td>\n",
       "      <td>3.0</td>\n",
       "      <td>4.00</td>\n",
       "      <td>5.0</td>\n",
       "    </tr>\n",
       "    <tr>\n",
       "      <th>introelapse</th>\n",
       "      <td>4184.0</td>\n",
       "      <td>347.808556</td>\n",
       "      <td>5908.901681</td>\n",
       "      <td>1.0</td>\n",
       "      <td>6.0</td>\n",
       "      <td>12.0</td>\n",
       "      <td>35.00</td>\n",
       "      <td>252063.0</td>\n",
       "    </tr>\n",
       "    <tr>\n",
       "      <th>testelapse</th>\n",
       "      <td>4184.0</td>\n",
       "      <td>479.994503</td>\n",
       "      <td>3142.178542</td>\n",
       "      <td>7.0</td>\n",
       "      <td>186.0</td>\n",
       "      <td>242.0</td>\n",
       "      <td>324.25</td>\n",
       "      <td>119834.0</td>\n",
       "    </tr>\n",
       "    <tr>\n",
       "      <th>fromgoogle</th>\n",
       "      <td>4184.0</td>\n",
       "      <td>1.576243</td>\n",
       "      <td>0.494212</td>\n",
       "      <td>1.0</td>\n",
       "      <td>1.0</td>\n",
       "      <td>2.0</td>\n",
       "      <td>2.00</td>\n",
       "      <td>2.0</td>\n",
       "    </tr>\n",
       "    <tr>\n",
       "      <th>engnat</th>\n",
       "      <td>4184.0</td>\n",
       "      <td>1.239962</td>\n",
       "      <td>0.440882</td>\n",
       "      <td>0.0</td>\n",
       "      <td>1.0</td>\n",
       "      <td>1.0</td>\n",
       "      <td>1.00</td>\n",
       "      <td>2.0</td>\n",
       "    </tr>\n",
       "    <tr>\n",
       "      <th>age</th>\n",
       "      <td>4184.0</td>\n",
       "      <td>30.370698</td>\n",
       "      <td>367.201726</td>\n",
       "      <td>13.0</td>\n",
       "      <td>18.0</td>\n",
       "      <td>21.0</td>\n",
       "      <td>27.00</td>\n",
       "      <td>23763.0</td>\n",
       "    </tr>\n",
       "    <tr>\n",
       "      <th>education</th>\n",
       "      <td>4184.0</td>\n",
       "      <td>2.317878</td>\n",
       "      <td>0.874264</td>\n",
       "      <td>0.0</td>\n",
       "      <td>2.0</td>\n",
       "      <td>2.0</td>\n",
       "      <td>3.00</td>\n",
       "      <td>4.0</td>\n",
       "    </tr>\n",
       "    <tr>\n",
       "      <th>gender</th>\n",
       "      <td>4184.0</td>\n",
       "      <td>1.654398</td>\n",
       "      <td>0.640915</td>\n",
       "      <td>0.0</td>\n",
       "      <td>1.0</td>\n",
       "      <td>2.0</td>\n",
       "      <td>2.00</td>\n",
       "      <td>3.0</td>\n",
       "    </tr>\n",
       "    <tr>\n",
       "      <th>orientation</th>\n",
       "      <td>4184.0</td>\n",
       "      <td>1.833413</td>\n",
       "      <td>1.303454</td>\n",
       "      <td>0.0</td>\n",
       "      <td>1.0</td>\n",
       "      <td>1.0</td>\n",
       "      <td>2.00</td>\n",
       "      <td>5.0</td>\n",
       "    </tr>\n",
       "    <tr>\n",
       "      <th>race</th>\n",
       "      <td>4184.0</td>\n",
       "      <td>5.013623</td>\n",
       "      <td>1.970996</td>\n",
       "      <td>0.0</td>\n",
       "      <td>5.0</td>\n",
       "      <td>6.0</td>\n",
       "      <td>6.00</td>\n",
       "      <td>7.0</td>\n",
       "    </tr>\n",
       "    <tr>\n",
       "      <th>religion</th>\n",
       "      <td>4184.0</td>\n",
       "      <td>2.394359</td>\n",
       "      <td>2.184164</td>\n",
       "      <td>0.0</td>\n",
       "      <td>1.0</td>\n",
       "      <td>2.0</td>\n",
       "      <td>2.00</td>\n",
       "      <td>7.0</td>\n",
       "    </tr>\n",
       "    <tr>\n",
       "      <th>hand</th>\n",
       "      <td>4184.0</td>\n",
       "      <td>1.190966</td>\n",
       "      <td>0.495357</td>\n",
       "      <td>0.0</td>\n",
       "      <td>1.0</td>\n",
       "      <td>1.0</td>\n",
       "      <td>1.00</td>\n",
       "      <td>3.0</td>\n",
       "    </tr>\n",
       "  </tbody>\n",
       "</table>\n",
       "</div>"
      ],
      "text/plain": [
       "              count        mean          std   min    25%    50%     75%  \\\n",
       "Q1           4184.0    1.962715     1.360291   0.0    1.0    1.0    3.00   \n",
       "Q2           4184.0    3.829589     1.551683   0.0    3.0    5.0    5.00   \n",
       "Q3           4184.0    2.846558     1.664804   0.0    1.0    3.0    5.00   \n",
       "Q4           4184.0    3.186902     1.476879   0.0    2.0    3.0    5.00   \n",
       "Q5           4184.0    2.865440     1.545798   0.0    1.0    3.0    4.00   \n",
       "Q6           4184.0    3.672084     1.342238   0.0    3.0    4.0    5.00   \n",
       "Q7           4184.0    3.216539     1.490733   0.0    2.0    3.0    5.00   \n",
       "Q8           4184.0    3.184512     1.387382   0.0    2.0    3.0    4.00   \n",
       "Q9           4184.0    2.761233     1.511805   0.0    1.0    3.0    4.00   \n",
       "Q10          4184.0    3.522945     1.242890   0.0    3.0    4.0    5.00   \n",
       "Q11          4184.0    2.748805     1.443078   0.0    1.0    3.0    4.00   \n",
       "Q12          4184.0    2.852772     1.556284   0.0    1.0    3.0    4.00   \n",
       "Q13          4184.0    2.657505     1.559575   0.0    1.0    3.0    4.00   \n",
       "Q14          4184.0    3.334130     1.522866   0.0    2.0    4.0    5.00   \n",
       "Q15          4184.0    3.168021     1.501683   0.0    2.0    3.0    5.00   \n",
       "Q16          4184.0    2.930210     1.575544   0.0    1.0    3.0    4.00   \n",
       "Q17          4184.0    2.564771     1.619010   0.0    1.0    2.0    4.00   \n",
       "Q18          4184.0    3.424952     1.413236   0.0    2.0    4.0    5.00   \n",
       "Q19          4184.0    2.928537     1.493122   0.0    2.0    3.0    4.00   \n",
       "Q20          4184.0    3.639818     1.414569   0.0    3.0    4.0    5.00   \n",
       "Q21          4184.0    2.867591     1.360858   0.0    2.0    3.0    4.00   \n",
       "Q22          4184.0    3.595124     1.354475   0.0    3.0    4.0    5.00   \n",
       "Q23          4184.0    3.861138     1.291425   0.0    3.0    4.0    5.00   \n",
       "Q24          4184.0    3.337237     1.426095   0.0    2.0    3.0    5.00   \n",
       "Q25          4184.0    1.999761     1.290747   0.0    1.0    1.0    3.00   \n",
       "Q26          4184.0    3.001434     1.480610   0.0    2.0    3.0    4.00   \n",
       "Q27          4184.0    2.730641     1.485883   0.0    1.0    3.0    4.00   \n",
       "Q28          4184.0    2.624044     1.481709   0.0    1.0    3.0    4.00   \n",
       "Q29          4184.0    2.543738     1.611428   0.0    1.0    2.0    4.00   \n",
       "Q30          4184.0    2.894359     1.477968   0.0    1.0    3.0    4.00   \n",
       "Q31          4184.0    3.002151     1.420032   0.0    2.0    3.0    4.00   \n",
       "Q32          4184.0    2.869503     1.659141   0.0    1.0    3.0    5.00   \n",
       "Q33          4184.0    2.741874     1.405670   0.0    1.0    3.0    4.00   \n",
       "Q34          4184.0    3.022228     1.562694   0.0    1.0    3.0    4.00   \n",
       "Q35          4184.0    3.074092     1.546400   0.0    1.0    3.0    5.00   \n",
       "Q36          4184.0    2.610660     1.409707   0.0    1.0    2.0    4.00   \n",
       "Q37          4184.0    3.465344     1.521460   0.0    2.0    4.0    5.00   \n",
       "Q38          4184.0    2.798757     1.413584   0.0    1.0    3.0    4.00   \n",
       "Q39          4184.0    2.569312     1.621772   0.0    1.0    2.0    4.00   \n",
       "Q40          4184.0    2.984226     1.483752   0.0    2.0    3.0    4.00   \n",
       "Q41          4184.0    3.385277     1.423055   0.0    2.0    4.0    5.00   \n",
       "Q42          4184.0    2.704828     1.544345   0.0    1.0    3.0    4.00   \n",
       "Q43          4184.0    2.676386     1.523097   0.0    1.0    3.0    4.00   \n",
       "Q44          4184.0    2.736616     1.471845   0.0    1.0    3.0    4.00   \n",
       "introelapse  4184.0  347.808556  5908.901681   1.0    6.0   12.0   35.00   \n",
       "testelapse   4184.0  479.994503  3142.178542   7.0  186.0  242.0  324.25   \n",
       "fromgoogle   4184.0    1.576243     0.494212   1.0    1.0    2.0    2.00   \n",
       "engnat       4184.0    1.239962     0.440882   0.0    1.0    1.0    1.00   \n",
       "age          4184.0   30.370698   367.201726  13.0   18.0   21.0   27.00   \n",
       "education    4184.0    2.317878     0.874264   0.0    2.0    2.0    3.00   \n",
       "gender       4184.0    1.654398     0.640915   0.0    1.0    2.0    2.00   \n",
       "orientation  4184.0    1.833413     1.303454   0.0    1.0    1.0    2.00   \n",
       "race         4184.0    5.013623     1.970996   0.0    5.0    6.0    6.00   \n",
       "religion     4184.0    2.394359     2.184164   0.0    1.0    2.0    2.00   \n",
       "hand         4184.0    1.190966     0.495357   0.0    1.0    1.0    1.00   \n",
       "\n",
       "                  max  \n",
       "Q1                5.0  \n",
       "Q2                5.0  \n",
       "Q3                5.0  \n",
       "Q4                5.0  \n",
       "Q5                5.0  \n",
       "Q6                5.0  \n",
       "Q7                5.0  \n",
       "Q8                5.0  \n",
       "Q9                5.0  \n",
       "Q10               5.0  \n",
       "Q11               5.0  \n",
       "Q12               5.0  \n",
       "Q13               5.0  \n",
       "Q14               5.0  \n",
       "Q15               5.0  \n",
       "Q16               5.0  \n",
       "Q17               5.0  \n",
       "Q18               5.0  \n",
       "Q19               5.0  \n",
       "Q20               5.0  \n",
       "Q21               5.0  \n",
       "Q22               5.0  \n",
       "Q23               5.0  \n",
       "Q24               5.0  \n",
       "Q25               5.0  \n",
       "Q26               5.0  \n",
       "Q27               5.0  \n",
       "Q28               5.0  \n",
       "Q29               5.0  \n",
       "Q30               5.0  \n",
       "Q31               5.0  \n",
       "Q32               5.0  \n",
       "Q33               5.0  \n",
       "Q34               5.0  \n",
       "Q35               5.0  \n",
       "Q36               5.0  \n",
       "Q37               5.0  \n",
       "Q38               5.0  \n",
       "Q39               5.0  \n",
       "Q40               5.0  \n",
       "Q41               5.0  \n",
       "Q42               5.0  \n",
       "Q43               5.0  \n",
       "Q44               5.0  \n",
       "introelapse  252063.0  \n",
       "testelapse   119834.0  \n",
       "fromgoogle        2.0  \n",
       "engnat            2.0  \n",
       "age           23763.0  \n",
       "education         4.0  \n",
       "gender            3.0  \n",
       "orientation       5.0  \n",
       "race              7.0  \n",
       "religion          7.0  \n",
       "hand              3.0  "
      ]
     },
     "execution_count": 93,
     "metadata": {},
     "output_type": "execute_result"
    }
   ],
   "source": [
    "df.describe().T"
   ]
  },
  {
   "cell_type": "code",
   "execution_count": 96,
   "metadata": {},
   "outputs": [],
   "source": [
    "col_list = list(df.columns)"
   ]
  },
  {
   "cell_type": "code",
   "execution_count": 97,
   "metadata": {},
   "outputs": [],
   "source": [
    "\n",
    "unique_columns= [list(df[col].unique()) for col in col_list]"
   ]
  },
  {
   "cell_type": "code",
   "execution_count": 98,
   "metadata": {},
   "outputs": [
    {
     "data": {
      "text/plain": [
       "{'Q1': [4, 1, 5, 3, 2, 0],\n",
       " 'Q2': [1, 5, 2, 4, 3, 0],\n",
       " 'Q3': [5, 1, 2, 4, 3, 0],\n",
       " 'Q4': [1, 4, 5, 2, 3, 0],\n",
       " 'Q5': [5, 2, 1, 4, 3, 0],\n",
       " 'Q6': [1, 5, 4, 3, 2, 0],\n",
       " 'Q7': [5, 3, 1, 4, 2, 0],\n",
       " 'Q8': [1, 4, 2, 3, 5, 0],\n",
       " 'Q9': [4, 1, 3, 5, 2, 0],\n",
       " 'Q10': [1, 5, 4, 3, 2, 0],\n",
       " 'Q11': [1, 2, 4, 5, 3, 0],\n",
       " 'Q12': [1, 5, 3, 2, 4, 0],\n",
       " 'Q13': [5, 3, 4, 2, 1, 0],\n",
       " 'Q14': [5, 4, 3, 2, 1, 0],\n",
       " 'Q15': [5, 1, 4, 3, 2, 0],\n",
       " 'Q16': [1, 4, 5, 3, 2, 0],\n",
       " 'Q17': [5, 1, 2, 3, 0, 4],\n",
       " 'Q18': [1, 3, 2, 4, 5, 0],\n",
       " 'Q19': [5, 1, 3, 4, 2, 0],\n",
       " 'Q20': [1, 5, 3, 2, 4, 0],\n",
       " 'Q21': [5, 2, 3, 4, 1, 0],\n",
       " 'Q22': [1, 4, 3, 5, 2, 0],\n",
       " 'Q23': [1, 4, 2, 5, 3, 0],\n",
       " 'Q24': [1, 4, 5, 2, 3, 0],\n",
       " 'Q25': [5, 1, 3, 4, 2, 0],\n",
       " 'Q26': [5, 2, 4, 1, 3, 0],\n",
       " 'Q27': [5, 1, 2, 4, 3, 0],\n",
       " 'Q28': [1, 2, 4, 5, 3, 0],\n",
       " 'Q29': [5, 1, 2, 3, 4, 0],\n",
       " 'Q30': [1, 3, 4, 5, 2, 0],\n",
       " 'Q31': [1, 3, 4, 5, 2, 0],\n",
       " 'Q32': [1, 5, 3, 2, 4, 0],\n",
       " 'Q33': [1, 2, 4, 3, 5, 0],\n",
       " 'Q34': [5, 4, 1, 3, 2, 0],\n",
       " 'Q35': [5, 4, 2, 3, 1, 0],\n",
       " 'Q36': [1, 4, 2, 5, 3, 0],\n",
       " 'Q37': [1, 4, 3, 2, 5, 0],\n",
       " 'Q38': [1, 4, 2, 3, 5, 0],\n",
       " 'Q39': [5, 1, 2, 3, 4, 0],\n",
       " 'Q40': [5, 3, 4, 2, 1, 0],\n",
       " 'Q41': [5, 1, 2, 3, 4, 0],\n",
       " 'Q42': [1, 4, 2, 5, 3, 0],\n",
       " 'Q43': [5, 4, 2, 1, 3, 0],\n",
       " 'Q44': [1, 5, 2, 3, 4, 0],\n",
       " 'introelapse': [91,\n",
       "  17,\n",
       "  11,\n",
       "  14,\n",
       "  10,\n",
       "  54,\n",
       "  9,\n",
       "  395,\n",
       "  20,\n",
       "  23,\n",
       "  53,\n",
       "  7,\n",
       "  15,\n",
       "  8,\n",
       "  47,\n",
       "  114,\n",
       "  38,\n",
       "  32,\n",
       "  28,\n",
       "  138,\n",
       "  5,\n",
       "  121,\n",
       "  72,\n",
       "  18,\n",
       "  2,\n",
       "  4,\n",
       "  493,\n",
       "  6,\n",
       "  201,\n",
       "  120,\n",
       "  58,\n",
       "  22,\n",
       "  76,\n",
       "  149,\n",
       "  45,\n",
       "  31,\n",
       "  39,\n",
       "  13,\n",
       "  40,\n",
       "  3,\n",
       "  41,\n",
       "  168,\n",
       "  4598,\n",
       "  59,\n",
       "  84,\n",
       "  380,\n",
       "  56,\n",
       "  71,\n",
       "  25,\n",
       "  82,\n",
       "  33,\n",
       "  51,\n",
       "  142,\n",
       "  26,\n",
       "  34,\n",
       "  61,\n",
       "  1289,\n",
       "  16,\n",
       "  2152,\n",
       "  92,\n",
       "  140,\n",
       "  445,\n",
       "  48,\n",
       "  550,\n",
       "  36,\n",
       "  6614,\n",
       "  1087,\n",
       "  360,\n",
       "  795,\n",
       "  111,\n",
       "  105,\n",
       "  147,\n",
       "  30,\n",
       "  152,\n",
       "  3295,\n",
       "  435,\n",
       "  85,\n",
       "  512,\n",
       "  19,\n",
       "  35167,\n",
       "  1006,\n",
       "  7427,\n",
       "  938,\n",
       "  264,\n",
       "  663,\n",
       "  261,\n",
       "  12,\n",
       "  489,\n",
       "  24,\n",
       "  399,\n",
       "  487,\n",
       "  332,\n",
       "  1525,\n",
       "  340,\n",
       "  491,\n",
       "  27,\n",
       "  77,\n",
       "  90,\n",
       "  688,\n",
       "  1360,\n",
       "  441,\n",
       "  596,\n",
       "  37,\n",
       "  21,\n",
       "  108,\n",
       "  211,\n",
       "  29,\n",
       "  5201,\n",
       "  43,\n",
       "  278,\n",
       "  3455,\n",
       "  35,\n",
       "  60,\n",
       "  628,\n",
       "  394,\n",
       "  49,\n",
       "  137,\n",
       "  50,\n",
       "  170,\n",
       "  110,\n",
       "  46,\n",
       "  128,\n",
       "  243,\n",
       "  103,\n",
       "  358,\n",
       "  405,\n",
       "  94,\n",
       "  55,\n",
       "  131,\n",
       "  2805,\n",
       "  603,\n",
       "  204,\n",
       "  183,\n",
       "  285,\n",
       "  251,\n",
       "  5286,\n",
       "  586,\n",
       "  187,\n",
       "  319,\n",
       "  1659,\n",
       "  736,\n",
       "  554,\n",
       "  64,\n",
       "  86,\n",
       "  501,\n",
       "  42,\n",
       "  1019,\n",
       "  69,\n",
       "  176,\n",
       "  740,\n",
       "  418,\n",
       "  363,\n",
       "  661,\n",
       "  52,\n",
       "  3069,\n",
       "  205264,\n",
       "  4164,\n",
       "  106,\n",
       "  320,\n",
       "  401,\n",
       "  289,\n",
       "  65,\n",
       "  96,\n",
       "  63,\n",
       "  93,\n",
       "  104,\n",
       "  202,\n",
       "  270,\n",
       "  19751,\n",
       "  87,\n",
       "  2743,\n",
       "  97,\n",
       "  374,\n",
       "  190,\n",
       "  88,\n",
       "  127,\n",
       "  44,\n",
       "  1637,\n",
       "  325,\n",
       "  897,\n",
       "  271,\n",
       "  62,\n",
       "  78,\n",
       "  350,\n",
       "  364,\n",
       "  567,\n",
       "  81,\n",
       "  2834,\n",
       "  169,\n",
       "  233,\n",
       "  178,\n",
       "  75,\n",
       "  6005,\n",
       "  145,\n",
       "  789,\n",
       "  1040,\n",
       "  310,\n",
       "  1013,\n",
       "  562,\n",
       "  1741,\n",
       "  280,\n",
       "  296,\n",
       "  70,\n",
       "  66,\n",
       "  157,\n",
       "  218,\n",
       "  213,\n",
       "  174,\n",
       "  651,\n",
       "  232,\n",
       "  1077,\n",
       "  141,\n",
       "  322,\n",
       "  415,\n",
       "  1449,\n",
       "  83,\n",
       "  172,\n",
       "  631,\n",
       "  520,\n",
       "  6380,\n",
       "  1,\n",
       "  387,\n",
       "  1062,\n",
       "  956,\n",
       "  442,\n",
       "  154,\n",
       "  130,\n",
       "  57,\n",
       "  89,\n",
       "  410,\n",
       "  2755,\n",
       "  847,\n",
       "  146,\n",
       "  12503,\n",
       "  8604,\n",
       "  770,\n",
       "  192,\n",
       "  331,\n",
       "  164,\n",
       "  100,\n",
       "  1239,\n",
       "  109,\n",
       "  338,\n",
       "  877,\n",
       "  116,\n",
       "  414,\n",
       "  1279,\n",
       "  515,\n",
       "  155,\n",
       "  166,\n",
       "  1057,\n",
       "  247,\n",
       "  3718,\n",
       "  1505,\n",
       "  112,\n",
       "  801,\n",
       "  2646,\n",
       "  1807,\n",
       "  221,\n",
       "  267,\n",
       "  781,\n",
       "  181,\n",
       "  148,\n",
       "  177,\n",
       "  469,\n",
       "  495,\n",
       "  468,\n",
       "  198,\n",
       "  254,\n",
       "  577,\n",
       "  625,\n",
       "  185,\n",
       "  133,\n",
       "  372,\n",
       "  73,\n",
       "  327,\n",
       "  927,\n",
       "  300,\n",
       "  676,\n",
       "  117,\n",
       "  1186,\n",
       "  1470,\n",
       "  1857,\n",
       "  722,\n",
       "  236,\n",
       "  1072,\n",
       "  3745,\n",
       "  208,\n",
       "  277,\n",
       "  314,\n",
       "  312,\n",
       "  1294,\n",
       "  291,\n",
       "  409,\n",
       "  112667,\n",
       "  431,\n",
       "  74,\n",
       "  241,\n",
       "  348,\n",
       "  917,\n",
       "  123,\n",
       "  298,\n",
       "  6602,\n",
       "  156,\n",
       "  265,\n",
       "  864,\n",
       "  107,\n",
       "  2775,\n",
       "  2070,\n",
       "  134,\n",
       "  238,\n",
       "  102,\n",
       "  2420,\n",
       "  144,\n",
       "  216,\n",
       "  11414,\n",
       "  4573,\n",
       "  287,\n",
       "  4321,\n",
       "  195,\n",
       "  608,\n",
       "  179,\n",
       "  143,\n",
       "  1600,\n",
       "  79,\n",
       "  80,\n",
       "  78222,\n",
       "  346,\n",
       "  1734,\n",
       "  385,\n",
       "  132,\n",
       "  827,\n",
       "  239,\n",
       "  5395,\n",
       "  2519,\n",
       "  200,\n",
       "  521,\n",
       "  167,\n",
       "  180,\n",
       "  115,\n",
       "  570,\n",
       "  425,\n",
       "  245,\n",
       "  235,\n",
       "  779,\n",
       "  328,\n",
       "  67,\n",
       "  315,\n",
       "  2209,\n",
       "  136,\n",
       "  95,\n",
       "  139,\n",
       "  37721,\n",
       "  240,\n",
       "  217,\n",
       "  5767,\n",
       "  11970,\n",
       "  427,\n",
       "  119,\n",
       "  160,\n",
       "  2243,\n",
       "  1232,\n",
       "  2114,\n",
       "  113,\n",
       "  890,\n",
       "  309,\n",
       "  162,\n",
       "  7710,\n",
       "  950,\n",
       "  197,\n",
       "  246,\n",
       "  2289,\n",
       "  576,\n",
       "  313,\n",
       "  377,\n",
       "  3017,\n",
       "  543,\n",
       "  531,\n",
       "  222,\n",
       "  194,\n",
       "  330,\n",
       "  492,\n",
       "  252063,\n",
       "  182,\n",
       "  68,\n",
       "  73795,\n",
       "  2059,\n",
       "  307,\n",
       "  755,\n",
       "  593,\n",
       "  4286,\n",
       "  129,\n",
       "  839,\n",
       "  678,\n",
       "  101,\n",
       "  158,\n",
       "  1042,\n",
       "  730,\n",
       "  547,\n",
       "  511,\n",
       "  845,\n",
       "  745,\n",
       "  589,\n",
       "  566,\n",
       "  467,\n",
       "  171,\n",
       "  188,\n",
       "  382,\n",
       "  227,\n",
       "  89748,\n",
       "  1880,\n",
       "  453,\n",
       "  345,\n",
       "  645,\n",
       "  253,\n",
       "  463,\n",
       "  126,\n",
       "  35389,\n",
       "  215,\n",
       "  344,\n",
       "  203,\n",
       "  527,\n",
       "  49690,\n",
       "  470,\n",
       "  714,\n",
       "  2448,\n",
       "  17237,\n",
       "  1483,\n",
       "  375,\n",
       "  9538,\n",
       "  135,\n",
       "  498,\n",
       "  621,\n",
       "  1966,\n",
       "  484,\n",
       "  5551,\n",
       "  528,\n",
       "  504,\n",
       "  472,\n",
       "  373,\n",
       "  335,\n",
       "  153,\n",
       "  479,\n",
       "  1486,\n",
       "  297,\n",
       "  580,\n",
       "  355,\n",
       "  888,\n",
       "  9944,\n",
       "  255,\n",
       "  444,\n",
       "  210],\n",
       " 'testelapse': [232,\n",
       "  247,\n",
       "  6774,\n",
       "  1072,\n",
       "  226,\n",
       "  372,\n",
       "  452,\n",
       "  674,\n",
       "  509,\n",
       "  358,\n",
       "  160,\n",
       "  103,\n",
       "  397,\n",
       "  292,\n",
       "  363,\n",
       "  201,\n",
       "  208,\n",
       "  255,\n",
       "  186,\n",
       "  163,\n",
       "  243,\n",
       "  3360,\n",
       "  175,\n",
       "  172,\n",
       "  110,\n",
       "  365,\n",
       "  203,\n",
       "  126,\n",
       "  166,\n",
       "  191,\n",
       "  150,\n",
       "  224,\n",
       "  338,\n",
       "  189,\n",
       "  112,\n",
       "  332,\n",
       "  132,\n",
       "  211,\n",
       "  151,\n",
       "  434,\n",
       "  317,\n",
       "  198,\n",
       "  131,\n",
       "  162,\n",
       "  843,\n",
       "  238,\n",
       "  261,\n",
       "  269,\n",
       "  357,\n",
       "  323,\n",
       "  321,\n",
       "  251,\n",
       "  178,\n",
       "  302,\n",
       "  184,\n",
       "  173,\n",
       "  344,\n",
       "  276,\n",
       "  139,\n",
       "  167,\n",
       "  242,\n",
       "  177,\n",
       "  784,\n",
       "  708,\n",
       "  237,\n",
       "  337,\n",
       "  146,\n",
       "  222,\n",
       "  235,\n",
       "  244,\n",
       "  169,\n",
       "  148,\n",
       "  158,\n",
       "  234,\n",
       "  1202,\n",
       "  908,\n",
       "  272,\n",
       "  419,\n",
       "  418,\n",
       "  657,\n",
       "  116,\n",
       "  195,\n",
       "  746,\n",
       "  179,\n",
       "  388,\n",
       "  185,\n",
       "  192,\n",
       "  265,\n",
       "  194,\n",
       "  293,\n",
       "  681,\n",
       "  147,\n",
       "  233,\n",
       "  1160,\n",
       "  134,\n",
       "  348,\n",
       "  164,\n",
       "  128,\n",
       "  182,\n",
       "  267,\n",
       "  314,\n",
       "  256,\n",
       "  298,\n",
       "  206,\n",
       "  197,\n",
       "  190,\n",
       "  283,\n",
       "  108,\n",
       "  2143,\n",
       "  159,\n",
       "  152,\n",
       "  142,\n",
       "  324,\n",
       "  376,\n",
       "  384,\n",
       "  270,\n",
       "  253,\n",
       "  140,\n",
       "  213,\n",
       "  138,\n",
       "  389,\n",
       "  290,\n",
       "  257,\n",
       "  378,\n",
       "  196,\n",
       "  214,\n",
       "  230,\n",
       "  533,\n",
       "  171,\n",
       "  221,\n",
       "  217,\n",
       "  231,\n",
       "  407,\n",
       "  220,\n",
       "  245,\n",
       "  188,\n",
       "  352,\n",
       "  218,\n",
       "  446,\n",
       "  286,\n",
       "  155,\n",
       "  26889,\n",
       "  174,\n",
       "  115,\n",
       "  183,\n",
       "  207,\n",
       "  202,\n",
       "  168,\n",
       "  28465,\n",
       "  200,\n",
       "  122,\n",
       "  679,\n",
       "  156,\n",
       "  1085,\n",
       "  205,\n",
       "  262,\n",
       "  216,\n",
       "  210,\n",
       "  133,\n",
       "  297,\n",
       "  239,\n",
       "  402,\n",
       "  264,\n",
       "  130,\n",
       "  305,\n",
       "  193,\n",
       "  248,\n",
       "  335,\n",
       "  491,\n",
       "  327,\n",
       "  161,\n",
       "  294,\n",
       "  104,\n",
       "  367,\n",
       "  356,\n",
       "  227,\n",
       "  199,\n",
       "  308,\n",
       "  228,\n",
       "  143,\n",
       "  170,\n",
       "  597,\n",
       "  594,\n",
       "  349,\n",
       "  457,\n",
       "  274,\n",
       "  501,\n",
       "  306,\n",
       "  565,\n",
       "  266,\n",
       "  277,\n",
       "  428,\n",
       "  510,\n",
       "  300,\n",
       "  346,\n",
       "  312,\n",
       "  833,\n",
       "  212,\n",
       "  555,\n",
       "  149,\n",
       "  219,\n",
       "  268,\n",
       "  285,\n",
       "  98,\n",
       "  291,\n",
       "  287,\n",
       "  288,\n",
       "  370,\n",
       "  144,\n",
       "  364,\n",
       "  263,\n",
       "  1854,\n",
       "  154,\n",
       "  844,\n",
       "  371,\n",
       "  113,\n",
       "  329,\n",
       "  408,\n",
       "  2554,\n",
       "  405,\n",
       "  284,\n",
       "  341,\n",
       "  176,\n",
       "  279,\n",
       "  568,\n",
       "  1242,\n",
       "  240,\n",
       "  249,\n",
       "  204,\n",
       "  359,\n",
       "  499,\n",
       "  254,\n",
       "  340,\n",
       "  275,\n",
       "  500,\n",
       "  229,\n",
       "  250,\n",
       "  406,\n",
       "  326,\n",
       "  429,\n",
       "  975,\n",
       "  394,\n",
       "  373,\n",
       "  353,\n",
       "  413,\n",
       "  439,\n",
       "  260,\n",
       "  345,\n",
       "  347,\n",
       "  557,\n",
       "  531,\n",
       "  225,\n",
       "  1045,\n",
       "  427,\n",
       "  123,\n",
       "  593,\n",
       "  289,\n",
       "  673,\n",
       "  296,\n",
       "  685,\n",
       "  209,\n",
       "  280,\n",
       "  307,\n",
       "  738,\n",
       "  187,\n",
       "  141,\n",
       "  449,\n",
       "  304,\n",
       "  374,\n",
       "  165,\n",
       "  351,\n",
       "  582,\n",
       "  336,\n",
       "  137,\n",
       "  153,\n",
       "  490,\n",
       "  430,\n",
       "  948,\n",
       "  124,\n",
       "  563,\n",
       "  712,\n",
       "  472,\n",
       "  410,\n",
       "  362,\n",
       "  424,\n",
       "  521,\n",
       "  448,\n",
       "  417,\n",
       "  273,\n",
       "  331,\n",
       "  1658,\n",
       "  313,\n",
       "  782,\n",
       "  95,\n",
       "  596,\n",
       "  489,\n",
       "  322,\n",
       "  391,\n",
       "  136,\n",
       "  215,\n",
       "  493,\n",
       "  465,\n",
       "  246,\n",
       "  93,\n",
       "  309,\n",
       "  881,\n",
       "  803,\n",
       "  125,\n",
       "  395,\n",
       "  1154,\n",
       "  145,\n",
       "  438,\n",
       "  551,\n",
       "  664,\n",
       "  157,\n",
       "  316,\n",
       "  534,\n",
       "  281,\n",
       "  343,\n",
       "  342,\n",
       "  102,\n",
       "  319,\n",
       "  223,\n",
       "  393,\n",
       "  2369,\n",
       "  355,\n",
       "  311,\n",
       "  295,\n",
       "  414,\n",
       "  877,\n",
       "  120,\n",
       "  735,\n",
       "  180,\n",
       "  127,\n",
       "  369,\n",
       "  375,\n",
       "  303,\n",
       "  440,\n",
       "  236,\n",
       "  282,\n",
       "  121,\n",
       "  377,\n",
       "  663,\n",
       "  380,\n",
       "  558,\n",
       "  181,\n",
       "  259,\n",
       "  515,\n",
       "  366,\n",
       "  1807,\n",
       "  420,\n",
       "  454,\n",
       "  271,\n",
       "  1203,\n",
       "  258,\n",
       "  368,\n",
       "  360,\n",
       "  325,\n",
       "  400,\n",
       "  611,\n",
       "  252,\n",
       "  415,\n",
       "  399,\n",
       "  315,\n",
       "  34093,\n",
       "  872,\n",
       "  330,\n",
       "  354,\n",
       "  1878,\n",
       "  431,\n",
       "  516,\n",
       "  467,\n",
       "  639,\n",
       "  556,\n",
       "  737,\n",
       "  461,\n",
       "  539,\n",
       "  443,\n",
       "  444,\n",
       "  411,\n",
       "  328,\n",
       "  4376,\n",
       "  707,\n",
       "  2208,\n",
       "  129,\n",
       "  503,\n",
       "  498,\n",
       "  662,\n",
       "  471,\n",
       "  511,\n",
       "  422,\n",
       "  727,\n",
       "  423,\n",
       "  656,\n",
       "  553,\n",
       "  66383,\n",
       "  301,\n",
       "  629,\n",
       "  12055,\n",
       "  588,\n",
       "  513,\n",
       "  379,\n",
       "  856,\n",
       "  385,\n",
       "  625,\n",
       "  451,\n",
       "  117,\n",
       "  485,\n",
       "  853,\n",
       "  759,\n",
       "  433,\n",
       "  1822,\n",
       "  943,\n",
       "  11025,\n",
       "  111,\n",
       "  339,\n",
       "  33289,\n",
       "  456,\n",
       "  4402,\n",
       "  442,\n",
       "  1786,\n",
       "  135,\n",
       "  425,\n",
       "  2755,\n",
       "  2027,\n",
       "  361,\n",
       "  334,\n",
       "  526,\n",
       "  610,\n",
       "  3929,\n",
       "  3023,\n",
       "  436,\n",
       "  683,\n",
       "  732,\n",
       "  613,\n",
       "  944,\n",
       "  935,\n",
       "  934,\n",
       "  522,\n",
       "  932,\n",
       "  278,\n",
       "  695,\n",
       "  606,\n",
       "  114,\n",
       "  864,\n",
       "  950,\n",
       "  564,\n",
       "  1020,\n",
       "  1499,\n",
       "  496,\n",
       "  968,\n",
       "  318,\n",
       "  398,\n",
       "  435,\n",
       "  387,\n",
       "  403,\n",
       "  409,\n",
       "  609,\n",
       "  383,\n",
       "  536,\n",
       "  842,\n",
       "  714,\n",
       "  100,\n",
       "  333,\n",
       "  622,\n",
       "  396,\n",
       "  459,\n",
       "  484,\n",
       "  591,\n",
       "  571,\n",
       "  602,\n",
       "  566,\n",
       "  650,\n",
       "  479,\n",
       "  634,\n",
       "  1389,\n",
       "  726,\n",
       "  426,\n",
       "  494,\n",
       "  600,\n",
       "  2108,\n",
       "  1140,\n",
       "  107,\n",
       "  381,\n",
       "  59,\n",
       "  619,\n",
       "  810,\n",
       "  78,\n",
       "  1034,\n",
       "  109,\n",
       "  1566,\n",
       "  437,\n",
       "  2621,\n",
       "  659,\n",
       "  48,\n",
       "  1056,\n",
       "  386,\n",
       "  2236,\n",
       "  106,\n",
       "  756,\n",
       "  992,\n",
       "  470,\n",
       "  460,\n",
       "  90,\n",
       "  22674,\n",
       "  1234,\n",
       "  401,\n",
       "  560,\n",
       "  416,\n",
       "  481,\n",
       "  441,\n",
       "  1355,\n",
       "  630,\n",
       "  1099,\n",
       "  921,\n",
       "  20406,\n",
       "  392,\n",
       "  101,\n",
       "  27757,\n",
       "  453,\n",
       "  1605,\n",
       "  483,\n",
       "  105,\n",
       "  624,\n",
       "  118,\n",
       "  462,\n",
       "  299,\n",
       "  310,\n",
       "  4866,\n",
       "  504,\n",
       "  669,\n",
       "  1815,\n",
       "  750,\n",
       "  578,\n",
       "  698,\n",
       "  445,\n",
       "  505,\n",
       "  620,\n",
       "  701,\n",
       "  632,\n",
       "  991,\n",
       "  450,\n",
       "  241,\n",
       "  792,\n",
       "  1340,\n",
       "  478,\n",
       "  730,\n",
       "  506,\n",
       "  585,\n",
       "  1155,\n",
       "  514,\n",
       "  488,\n",
       "  6102,\n",
       "  15999,\n",
       "  574,\n",
       "  684,\n",
       "  2000,\n",
       "  350,\n",
       "  12568,\n",
       "  793,\n",
       "  520,\n",
       "  692,\n",
       "  96,\n",
       "  62004,\n",
       "  621,\n",
       "  997,\n",
       "  867,\n",
       "  421,\n",
       "  1165,\n",
       "  646,\n",
       "  68,\n",
       "  463,\n",
       "  771,\n",
       "  119,\n",
       "  517,\n",
       "  3345,\n",
       "  119834,\n",
       "  1152,\n",
       "  776,\n",
       "  1297,\n",
       "  636,\n",
       "  523,\n",
       "  320,\n",
       "  549,\n",
       "  469,\n",
       "  6554,\n",
       "  529,\n",
       "  788,\n",
       "  689,\n",
       "  464,\n",
       "  404,\n",
       "  93888,\n",
       "  957,\n",
       "  468,\n",
       "  2261,\n",
       "  760,\n",
       "  1540,\n",
       "  880,\n",
       "  569,\n",
       "  50,\n",
       "  1523,\n",
       "  4344,\n",
       "  527,\n",
       "  719,\n",
       "  2626,\n",
       "  1148,\n",
       "  724,\n",
       "  3886,\n",
       "  7,\n",
       "  13507,\n",
       "  725,\n",
       "  1225,\n",
       "  623,\n",
       "  677,\n",
       "  49,\n",
       "  519,\n",
       "  382,\n",
       "  702,\n",
       "  458,\n",
       "  97,\n",
       "  2641,\n",
       "  495,\n",
       "  576,\n",
       "  849,\n",
       "  801,\n",
       "  671,\n",
       "  1143,\n",
       "  642,\n",
       "  638,\n",
       "  487,\n",
       "  920,\n",
       "  772,\n",
       "  626,\n",
       "  545,\n",
       "  3232,\n",
       "  586,\n",
       "  729,\n",
       "  2078,\n",
       "  390,\n",
       "  580,\n",
       "  14,\n",
       "  660,\n",
       "  661,\n",
       "  722,\n",
       "  44584,\n",
       "  537,\n",
       "  598,\n",
       "  581,\n",
       "  763,\n",
       "  1901,\n",
       "  1267,\n",
       "  9743,\n",
       "  507,\n",
       "  476,\n",
       "  1019,\n",
       "  1217,\n",
       "  1248,\n",
       "  2812,\n",
       "  502,\n",
       "  754,\n",
       "  1879,\n",
       "  7732,\n",
       "  896,\n",
       "  480,\n",
       "  543,\n",
       "  41,\n",
       "  641,\n",
       "  1028,\n",
       "  3563,\n",
       "  67,\n",
       "  31673,\n",
       "  540,\n",
       "  678,\n",
       "  710,\n",
       "  466,\n",
       "  1415,\n",
       "  716,\n",
       "  18590,\n",
       "  70,\n",
       "  6986,\n",
       "  1011,\n",
       "  1990,\n",
       "  7638,\n",
       "  902,\n",
       "  4438,\n",
       "  876,\n",
       "  447,\n",
       "  904,\n",
       "  936,\n",
       "  711,\n",
       "  658,\n",
       "  1780,\n",
       "  530,\n",
       "  570,\n",
       "  858,\n",
       "  834,\n",
       "  525,\n",
       "  548],\n",
       " 'country': ['US',\n",
       "  'CA',\n",
       "  'NL',\n",
       "  'GR',\n",
       "  'GB',\n",
       "  'KR',\n",
       "  'SE',\n",
       "  'NO',\n",
       "  'DE',\n",
       "  'NZ',\n",
       "  'CH',\n",
       "  'RO',\n",
       "  'IL',\n",
       "  'IN',\n",
       "  'ZA',\n",
       "  'TR',\n",
       "  'JM',\n",
       "  'AU',\n",
       "  'BE',\n",
       "  'PL',\n",
       "  'CZ',\n",
       "  'RS',\n",
       "  'TW',\n",
       "  'A2',\n",
       "  'MX',\n",
       "  'PH',\n",
       "  'ES',\n",
       "  'AT',\n",
       "  'JP',\n",
       "  'IT',\n",
       "  'SG',\n",
       "  'MY',\n",
       "  'HK',\n",
       "  'FR',\n",
       "  'EU',\n",
       "  'DK',\n",
       "  'AE',\n",
       "  'EC',\n",
       "  'TH',\n",
       "  'IE',\n",
       "  'PK',\n",
       "  'BR',\n",
       "  'ID',\n",
       "  'EG',\n",
       "  'NI',\n",
       "  'FI',\n",
       "  'CN',\n",
       "  'RU',\n",
       "  'SI',\n",
       "  'AR',\n",
       "  'PT',\n",
       "  'LB',\n",
       "  'DO',\n",
       "  'PF',\n",
       "  'LT',\n",
       "  'BG',\n",
       "  'GE',\n",
       "  'CL',\n",
       "  'SK',\n",
       "  'EE',\n",
       "  'KE',\n",
       "  'UZ',\n",
       "  'LV',\n",
       "  'BB',\n",
       "  'BN',\n",
       "  'PR',\n",
       "  'HR',\n",
       "  'NP',\n",
       "  'A1',\n",
       "  'PE',\n",
       "  'UA',\n",
       "  'HU',\n",
       "  'VN',\n",
       "  'TZ',\n",
       "  'KH',\n",
       "  'UY',\n",
       "  'VE',\n",
       "  'IS',\n",
       "  'MP',\n",
       "  'CO',\n",
       "  'JO',\n",
       "  'TN',\n",
       "  'KW',\n",
       "  'CY',\n",
       "  'FJ',\n",
       "  'LK',\n",
       "  'VI',\n",
       "  'ZW',\n",
       "  'IM',\n",
       "  'ZM',\n",
       "  'QA',\n",
       "  'DZ',\n",
       "  'LY',\n",
       "  'SA'],\n",
       " 'fromgoogle': [2, 1],\n",
       " 'engnat': [1, 2, 0],\n",
       " 'age': [22,\n",
       "  14,\n",
       "  30,\n",
       "  18,\n",
       "  59,\n",
       "  15,\n",
       "  16,\n",
       "  13,\n",
       "  17,\n",
       "  21,\n",
       "  55,\n",
       "  25,\n",
       "  27,\n",
       "  20,\n",
       "  23,\n",
       "  49,\n",
       "  29,\n",
       "  32,\n",
       "  19,\n",
       "  37,\n",
       "  26,\n",
       "  56,\n",
       "  39,\n",
       "  33,\n",
       "  64,\n",
       "  52,\n",
       "  48,\n",
       "  42,\n",
       "  31,\n",
       "  44,\n",
       "  54,\n",
       "  38,\n",
       "  43,\n",
       "  28,\n",
       "  62,\n",
       "  40,\n",
       "  34,\n",
       "  24,\n",
       "  45,\n",
       "  53,\n",
       "  35,\n",
       "  57,\n",
       "  47,\n",
       "  58,\n",
       "  41,\n",
       "  61,\n",
       "  46,\n",
       "  63,\n",
       "  65,\n",
       "  76,\n",
       "  50,\n",
       "  69,\n",
       "  36,\n",
       "  51,\n",
       "  60,\n",
       "  68,\n",
       "  67,\n",
       "  73,\n",
       "  70,\n",
       "  86,\n",
       "  78,\n",
       "  123,\n",
       "  409,\n",
       "  23763,\n",
       "  77,\n",
       "  85],\n",
       " 'education': [3, 1, 4, 2, 0],\n",
       " 'gender': [1, 2, 3, 0],\n",
       " 'orientation': [1, 2, 5, 0, 3, 4],\n",
       " 'race': [3, 6, 1, 2, 7, 0, 4, 5],\n",
       " 'religion': [2, 1, 7, 0, 4, 6, 3, 5],\n",
       " 'hand': [3, 1, 2, 0]}"
      ]
     },
     "execution_count": 98,
     "metadata": {},
     "output_type": "execute_result"
    }
   ],
   "source": [
    "columns_dict = dict(zip(col_list, answer_vals))\n",
    "\n",
    "columns_dict\n"
   ]
  },
  {
   "cell_type": "code",
   "execution_count": 105,
   "metadata": {},
   "outputs": [
    {
     "data": {
      "text/html": [
       "<div>\n",
       "<style scoped>\n",
       "    .dataframe tbody tr th:only-of-type {\n",
       "        vertical-align: middle;\n",
       "    }\n",
       "\n",
       "    .dataframe tbody tr th {\n",
       "        vertical-align: top;\n",
       "    }\n",
       "\n",
       "    .dataframe thead th {\n",
       "        text-align: right;\n",
       "    }\n",
       "</style>\n",
       "<table border=\"1\" class=\"dataframe\">\n",
       "  <thead>\n",
       "    <tr style=\"text-align: right;\">\n",
       "      <th></th>\n",
       "      <th>Q1</th>\n",
       "      <th>Q2</th>\n",
       "      <th>Q3</th>\n",
       "      <th>Q4</th>\n",
       "      <th>Q5</th>\n",
       "      <th>Q6</th>\n",
       "      <th>Q7</th>\n",
       "      <th>Q8</th>\n",
       "      <th>Q9</th>\n",
       "      <th>Q10</th>\n",
       "      <th>...</th>\n",
       "      <th>country</th>\n",
       "      <th>fromgoogle</th>\n",
       "      <th>engnat</th>\n",
       "      <th>age</th>\n",
       "      <th>education</th>\n",
       "      <th>gender</th>\n",
       "      <th>orientation</th>\n",
       "      <th>race</th>\n",
       "      <th>religion</th>\n",
       "      <th>hand</th>\n",
       "    </tr>\n",
       "  </thead>\n",
       "  <tbody>\n",
       "    <tr>\n",
       "      <th>2075</th>\n",
       "      <td>3</td>\n",
       "      <td>4</td>\n",
       "      <td>5</td>\n",
       "      <td>4</td>\n",
       "      <td>3</td>\n",
       "      <td>4</td>\n",
       "      <td>5</td>\n",
       "      <td>4</td>\n",
       "      <td>3</td>\n",
       "      <td>3</td>\n",
       "      <td>...</td>\n",
       "      <td>US</td>\n",
       "      <td>2</td>\n",
       "      <td>1</td>\n",
       "      <td>123</td>\n",
       "      <td>1</td>\n",
       "      <td>1</td>\n",
       "      <td>5</td>\n",
       "      <td>7</td>\n",
       "      <td>7</td>\n",
       "      <td>3</td>\n",
       "    </tr>\n",
       "    <tr>\n",
       "      <th>2137</th>\n",
       "      <td>1</td>\n",
       "      <td>2</td>\n",
       "      <td>5</td>\n",
       "      <td>4</td>\n",
       "      <td>3</td>\n",
       "      <td>1</td>\n",
       "      <td>5</td>\n",
       "      <td>1</td>\n",
       "      <td>5</td>\n",
       "      <td>3</td>\n",
       "      <td>...</td>\n",
       "      <td>US</td>\n",
       "      <td>2</td>\n",
       "      <td>1</td>\n",
       "      <td>409</td>\n",
       "      <td>2</td>\n",
       "      <td>1</td>\n",
       "      <td>5</td>\n",
       "      <td>6</td>\n",
       "      <td>1</td>\n",
       "      <td>1</td>\n",
       "    </tr>\n",
       "    <tr>\n",
       "      <th>2690</th>\n",
       "      <td>2</td>\n",
       "      <td>5</td>\n",
       "      <td>5</td>\n",
       "      <td>1</td>\n",
       "      <td>5</td>\n",
       "      <td>5</td>\n",
       "      <td>5</td>\n",
       "      <td>5</td>\n",
       "      <td>4</td>\n",
       "      <td>2</td>\n",
       "      <td>...</td>\n",
       "      <td>US</td>\n",
       "      <td>2</td>\n",
       "      <td>2</td>\n",
       "      <td>23763</td>\n",
       "      <td>4</td>\n",
       "      <td>1</td>\n",
       "      <td>2</td>\n",
       "      <td>7</td>\n",
       "      <td>7</td>\n",
       "      <td>0</td>\n",
       "    </tr>\n",
       "  </tbody>\n",
       "</table>\n",
       "<p>3 rows × 56 columns</p>\n",
       "</div>"
      ],
      "text/plain": [
       "      Q1  Q2  Q3  Q4  Q5  Q6  Q7  Q8  Q9  Q10  ...  country  fromgoogle  \\\n",
       "2075   3   4   5   4   3   4   5   4   3    3  ...       US           2   \n",
       "2137   1   2   5   4   3   1   5   1   5    3  ...       US           2   \n",
       "2690   2   5   5   1   5   5   5   5   4    2  ...       US           2   \n",
       "\n",
       "      engnat    age  education  gender  orientation  race  religion  hand  \n",
       "2075       1    123          1       1            5     7         7     3  \n",
       "2137       1    409          2       1            5     6         1     1  \n",
       "2690       2  23763          4       1            2     7         7     0  \n",
       "\n",
       "[3 rows x 56 columns]"
      ]
     },
     "execution_count": 105,
     "metadata": {},
     "output_type": "execute_result"
    }
   ],
   "source": [
    "df[df['age'] > 86]\n",
    "\n"
   ]
  },
  {
   "cell_type": "code",
   "execution_count": 106,
   "metadata": {},
   "outputs": [],
   "source": [
    "df.loc[2075, 'age'] = np.median(df['age'])"
   ]
  },
  {
   "cell_type": "code",
   "execution_count": 107,
   "metadata": {},
   "outputs": [],
   "source": [
    "df.loc[2137, 'age'] = np.median(df['age'])"
   ]
  },
  {
   "cell_type": "code",
   "execution_count": 108,
   "metadata": {},
   "outputs": [],
   "source": [
    "df.loc[2690, 'age'] = np.median(df['age'])"
   ]
  },
  {
   "cell_type": "markdown",
   "metadata": {},
   "source": [
    "---\n",
    "## Step 4: Model the data.\n",
    "\n",
    "### 5. Suppose I wanted to use Q1 - Q44 to predict whether or not the person is left-handed. Would this be a classification or regression problem? Why?"
   ]
  },
  {
   "cell_type": "markdown",
   "metadata": {},
   "source": [
    "Answer: \n",
    "\n",
    "Classification. The answer of whether or not the person is left handed is a binary outcome. 0 or 1. Regression is best to predict continous variables and classification for categorical. Left handed is a categorical variable"
   ]
  },
  {
   "cell_type": "markdown",
   "metadata": {},
   "source": [
    "### 6. We want to use $k$-nearest neighbors to predict whether or not a person is left-handed based on their responses to Q1 - Q44. Before doing that, however, you remember that it is often a good idea to standardize your variables. In general, why would we standardize our variables? Give an example of when we would standardize our variables."
   ]
  },
  {
   "cell_type": "markdown",
   "metadata": {},
   "source": [
    "Answer: \n",
    "\n",
    "We want to scale our variables to make sure that our variables are standardized and being weighted properly. For exampel when we are talking about basketball lets use points per game to predict total wins. total wins can be from 0-82 and points can be 0-200 or how ever many. They are on a different scale so we want to ensure we have proper weights. "
   ]
  },
  {
   "cell_type": "markdown",
   "metadata": {},
   "source": [
    "### 7. Give an example of when we might not standardize our variables."
   ]
  },
  {
   "cell_type": "markdown",
   "metadata": {},
   "source": [
    "\n",
    "Answer: The variables are already weighted on the same scale"
   ]
  },
  {
   "cell_type": "markdown",
   "metadata": {},
   "source": [
    "### 8. Based on your answers to 6 and 7, do you think we should standardize our predictor variables in this case? Why or why not?"
   ]
  },
  {
   "cell_type": "markdown",
   "metadata": {},
   "source": [
    "Answer: It seems that all the variables are from a scale of 1-5. We may not need to scale those variabes becusae predictors are all same scale"
   ]
  },
  {
   "cell_type": "markdown",
   "metadata": {},
   "source": [
    "### 9. We want to use $k$-nearest neighbors to predict whether or not a person is left-handed. What munging/cleaning do we need to do to our $y$ variable in order to explicitly answer this question? Do it."
   ]
  },
  {
   "cell_type": "markdown",
   "metadata": {},
   "source": [
    "Answer: \n",
    "\n",
    "We could maybe drop the 0 value. I want the model to reperesent 3 outcomes, right, left or both. Having a 0 value could mean they have no hands but the probabilty is so low i will drop them."
   ]
  },
  {
   "cell_type": "code",
   "execution_count": 109,
   "metadata": {},
   "outputs": [
    {
     "data": {
      "text/plain": [
       "array([3, 1, 2, 0])"
      ]
     },
     "execution_count": 109,
     "metadata": {},
     "output_type": "execute_result"
    }
   ],
   "source": [
    "df['hand'].unique()\n",
    "\n"
   ]
  },
  {
   "cell_type": "code",
   "execution_count": 110,
   "metadata": {},
   "outputs": [],
   "source": [
    "df = df[df['hand'] >0]"
   ]
  },
  {
   "cell_type": "code",
   "execution_count": 111,
   "metadata": {
    "scrolled": true
   },
   "outputs": [
    {
     "data": {
      "text/plain": [
       "1    3542\n",
       "2     452\n",
       "3     179\n",
       "Name: hand, dtype: int64"
      ]
     },
     "execution_count": 111,
     "metadata": {},
     "output_type": "execute_result"
    }
   ],
   "source": [
    "df['hand'].value_counts()"
   ]
  },
  {
   "cell_type": "code",
   "execution_count": null,
   "metadata": {},
   "outputs": [],
   "source": []
  },
  {
   "cell_type": "markdown",
   "metadata": {},
   "source": [
    "### 10. The professor for whom you work suggests that you set $k = 4$. In this specific case, why might this be a bad idea?"
   ]
  },
  {
   "cell_type": "markdown",
   "metadata": {},
   "source": [
    "Answer: 4 neighbors is very few compared to the 4000 data points. We have the risk of overfitting model.\n"
   ]
  },
  {
   "cell_type": "code",
   "execution_count": 112,
   "metadata": {},
   "outputs": [
    {
     "data": {
      "text/plain": [
       "(4173, 56)"
      ]
     },
     "execution_count": 112,
     "metadata": {},
     "output_type": "execute_result"
    }
   ],
   "source": [
    "df.shape"
   ]
  },
  {
   "cell_type": "markdown",
   "metadata": {},
   "source": [
    "### 11. Let's *(finally)* use $k$-nearest neighbors to predict whether or not a person is left-handed!\n",
    "\n",
    "> Be sure to create a train/test split with your data!\n",
    "\n",
    "> Create four separate models, one with $k = 3$, one with $k = 5$, one with $k = 15$, and one with $k = 25$.\n",
    "\n",
    "> Instantiate and fit your models."
   ]
  },
  {
   "cell_type": "code",
   "execution_count": 123,
   "metadata": {},
   "outputs": [],
   "source": [
    "\n",
    "from sklearn.neighbors import KNeighborsClassifier\n",
    "from sklearn.datasets import load_iris\n",
    "from sklearn.model_selection import train_test_split, cross_val_score\n",
    "from sklearn.preprocessing import StandardScaler"
   ]
  },
  {
   "cell_type": "code",
   "execution_count": 124,
   "metadata": {
    "scrolled": true
   },
   "outputs": [],
   "source": [
    "target = df['hand']\n"
   ]
  },
  {
   "cell_type": "code",
   "execution_count": 126,
   "metadata": {},
   "outputs": [],
   "source": [
    "features = [x for x in df.columns if 'hand' not in x and 'country' not in x]\n",
    "\n"
   ]
  },
  {
   "cell_type": "code",
   "execution_count": 127,
   "metadata": {},
   "outputs": [],
   "source": [
    "\n",
    "X = df[features]\n",
    "y = target"
   ]
  },
  {
   "cell_type": "code",
   "execution_count": 128,
   "metadata": {},
   "outputs": [
    {
     "data": {
      "text/plain": [
       "1    0.848790\n",
       "2    0.108315\n",
       "3    0.042895\n",
       "Name: hand, dtype: float64"
      ]
     },
     "execution_count": 128,
     "metadata": {},
     "output_type": "execute_result"
    }
   ],
   "source": [
    "y.value_counts(normalize=True)"
   ]
  },
  {
   "cell_type": "code",
   "execution_count": 129,
   "metadata": {},
   "outputs": [],
   "source": [
    "X_train, X_test, y_train, y_test = train_test_split(X, y, random_state = 42, stratify = y)"
   ]
  },
  {
   "cell_type": "markdown",
   "metadata": {},
   "source": [
    "# K = 3"
   ]
  },
  {
   "cell_type": "code",
   "execution_count": 130,
   "metadata": {},
   "outputs": [],
   "source": [
    "\n",
    "knn = KNeighborsClassifier(n_neighbors=3)"
   ]
  },
  {
   "cell_type": "code",
   "execution_count": 131,
   "metadata": {},
   "outputs": [
    {
     "data": {
      "text/plain": [
       "KNeighborsClassifier(algorithm='auto', leaf_size=30, metric='minkowski',\n",
       "                     metric_params=None, n_jobs=None, n_neighbors=3, p=2,\n",
       "                     weights='uniform')"
      ]
     },
     "execution_count": 131,
     "metadata": {},
     "output_type": "execute_result"
    }
   ],
   "source": [
    "knn.fit(X_train, y_train)"
   ]
  },
  {
   "cell_type": "code",
   "execution_count": 133,
   "metadata": {},
   "outputs": [
    {
     "data": {
      "text/plain": [
       "0.8609779482262704"
      ]
     },
     "execution_count": 133,
     "metadata": {},
     "output_type": "execute_result"
    }
   ],
   "source": [
    "knn.score(X_train, y_train)"
   ]
  },
  {
   "cell_type": "code",
   "execution_count": 134,
   "metadata": {},
   "outputs": [
    {
     "data": {
      "text/plain": [
       "0.8256704980842912"
      ]
     },
     "execution_count": 134,
     "metadata": {},
     "output_type": "execute_result"
    }
   ],
   "source": [
    "knn.score(X_test, y_test)\n",
    "\n"
   ]
  },
  {
   "cell_type": "code",
   "execution_count": 135,
   "metadata": {},
   "outputs": [
    {
     "data": {
      "text/plain": [
       "0.8197506115551096"
      ]
     },
     "execution_count": 135,
     "metadata": {},
     "output_type": "execute_result"
    }
   ],
   "source": [
    "cross_val_score(knn, X_train, y_train, cv = 3).mean()"
   ]
  },
  {
   "cell_type": "markdown",
   "metadata": {},
   "source": [
    "# K = 5"
   ]
  },
  {
   "cell_type": "code",
   "execution_count": 136,
   "metadata": {},
   "outputs": [],
   "source": [
    "\n",
    "knn = KNeighborsClassifier(n_neighbors=5)"
   ]
  },
  {
   "cell_type": "code",
   "execution_count": 137,
   "metadata": {},
   "outputs": [
    {
     "data": {
      "text/plain": [
       "KNeighborsClassifier(algorithm='auto', leaf_size=30, metric='minkowski',\n",
       "                     metric_params=None, n_jobs=None, n_neighbors=5, p=2,\n",
       "                     weights='uniform')"
      ]
     },
     "execution_count": 137,
     "metadata": {},
     "output_type": "execute_result"
    }
   ],
   "source": [
    "knn.fit(X_train, y_train)"
   ]
  },
  {
   "cell_type": "code",
   "execution_count": 138,
   "metadata": {},
   "outputs": [
    {
     "data": {
      "text/plain": [
       "0.851709811441355"
      ]
     },
     "execution_count": 138,
     "metadata": {},
     "output_type": "execute_result"
    }
   ],
   "source": [
    "knn.score(X_train, y_train)"
   ]
  },
  {
   "cell_type": "code",
   "execution_count": 139,
   "metadata": {},
   "outputs": [
    {
     "data": {
      "text/plain": [
       "0.8457854406130269"
      ]
     },
     "execution_count": 139,
     "metadata": {},
     "output_type": "execute_result"
    }
   ],
   "source": [
    "knn.score(X_test, y_test)\n",
    "\n"
   ]
  },
  {
   "cell_type": "code",
   "execution_count": 140,
   "metadata": {},
   "outputs": [
    {
     "data": {
      "text/plain": [
       "0.8418033148132014"
      ]
     },
     "execution_count": 140,
     "metadata": {},
     "output_type": "execute_result"
    }
   ],
   "source": [
    "cross_val_score(knn, X_train, y_train, cv = 3).mean()"
   ]
  },
  {
   "cell_type": "markdown",
   "metadata": {},
   "source": [
    "# K = 15"
   ]
  },
  {
   "cell_type": "code",
   "execution_count": 141,
   "metadata": {},
   "outputs": [],
   "source": [
    "\n",
    "knn = KNeighborsClassifier(n_neighbors=15)"
   ]
  },
  {
   "cell_type": "code",
   "execution_count": 142,
   "metadata": {},
   "outputs": [
    {
     "data": {
      "text/plain": [
       "KNeighborsClassifier(algorithm='auto', leaf_size=30, metric='minkowski',\n",
       "                     metric_params=None, n_jobs=None, n_neighbors=15, p=2,\n",
       "                     weights='uniform')"
      ]
     },
     "execution_count": 142,
     "metadata": {},
     "output_type": "execute_result"
    }
   ],
   "source": [
    "knn.fit(X_train, y_train)"
   ]
  },
  {
   "cell_type": "code",
   "execution_count": 143,
   "metadata": {},
   "outputs": [
    {
     "data": {
      "text/plain": [
       "0.849153084052413"
      ]
     },
     "execution_count": 143,
     "metadata": {},
     "output_type": "execute_result"
    }
   ],
   "source": [
    "knn.score(X_train, y_train)"
   ]
  },
  {
   "cell_type": "code",
   "execution_count": 144,
   "metadata": {},
   "outputs": [
    {
     "data": {
      "text/plain": [
       "0.8486590038314177"
      ]
     },
     "execution_count": 144,
     "metadata": {},
     "output_type": "execute_result"
    }
   ],
   "source": [
    "knn.score(X_test, y_test)\n",
    "\n"
   ]
  },
  {
   "cell_type": "code",
   "execution_count": 145,
   "metadata": {
    "scrolled": true
   },
   "outputs": [
    {
     "data": {
      "text/plain": [
       "0.8488337070026014"
      ]
     },
     "execution_count": 145,
     "metadata": {},
     "output_type": "execute_result"
    }
   ],
   "source": [
    "cross_val_score(knn, X_train, y_train, cv = 3).mean()"
   ]
  },
  {
   "cell_type": "markdown",
   "metadata": {},
   "source": [
    "# K = 25"
   ]
  },
  {
   "cell_type": "code",
   "execution_count": 146,
   "metadata": {},
   "outputs": [],
   "source": [
    "\n",
    "knn = KNeighborsClassifier(n_neighbors=25)"
   ]
  },
  {
   "cell_type": "code",
   "execution_count": 147,
   "metadata": {},
   "outputs": [
    {
     "data": {
      "text/plain": [
       "KNeighborsClassifier(algorithm='auto', leaf_size=30, metric='minkowski',\n",
       "                     metric_params=None, n_jobs=None, n_neighbors=25, p=2,\n",
       "                     weights='uniform')"
      ]
     },
     "execution_count": 147,
     "metadata": {},
     "output_type": "execute_result"
    }
   ],
   "source": [
    "knn.fit(X_train, y_train)"
   ]
  },
  {
   "cell_type": "code",
   "execution_count": 148,
   "metadata": {},
   "outputs": [
    {
     "data": {
      "text/plain": [
       "0.8488334931287952"
      ]
     },
     "execution_count": 148,
     "metadata": {},
     "output_type": "execute_result"
    }
   ],
   "source": [
    "knn.score(X_train, y_train)"
   ]
  },
  {
   "cell_type": "code",
   "execution_count": 149,
   "metadata": {},
   "outputs": [
    {
     "data": {
      "text/plain": [
       "0.8486590038314177"
      ]
     },
     "execution_count": 149,
     "metadata": {},
     "output_type": "execute_result"
    }
   ],
   "source": [
    "knn.score(X_test, y_test)\n",
    "\n"
   ]
  },
  {
   "cell_type": "code",
   "execution_count": 150,
   "metadata": {},
   "outputs": [
    {
     "data": {
      "text/plain": [
       "0.8488337070026014"
      ]
     },
     "execution_count": 150,
     "metadata": {},
     "output_type": "execute_result"
    }
   ],
   "source": [
    "cross_val_score(knn, X_train, y_train, cv = 3).mean()"
   ]
  },
  {
   "cell_type": "markdown",
   "metadata": {},
   "source": [
    "Being good data scientists, we know that we might not run just one type of model. We might run many different models and see which is best.\n",
    "\n",
    "### 12. We want to use logistic regression to predict whether or not a person is left-handed. Before we do that, let's check the [documentation for logistic regression in sklearn](http://scikit-learn.org/stable/modules/generated/sklearn.linear_model.LogisticRegression.html). Is there default regularization? If so, what is it? If not, how do you know?"
   ]
  },
  {
   "cell_type": "markdown",
   "metadata": {},
   "source": [
    "Answer: Ridge Regularization"
   ]
  },
  {
   "cell_type": "markdown",
   "metadata": {},
   "source": [
    "# Lasso 1"
   ]
  },
  {
   "cell_type": "code",
   "execution_count": 151,
   "metadata": {},
   "outputs": [],
   "source": [
    "logreg = LogisticRegression(penalty = 'l1', C = 1)"
   ]
  },
  {
   "cell_type": "markdown",
   "metadata": {},
   "source": [
    "### 13. We want to use logistic regression to predict whether or not a person is left-handed. Before we do that, should we standardize our features?"
   ]
  },
  {
   "cell_type": "code",
   "execution_count": 152,
   "metadata": {},
   "outputs": [
    {
     "name": "stderr",
     "output_type": "stream",
     "text": [
      "/Users/varunganti/opt/anaconda3/lib/python3.7/site-packages/sklearn/linear_model/logistic.py:432: FutureWarning: Default solver will be changed to 'lbfgs' in 0.22. Specify a solver to silence this warning.\n",
      "  FutureWarning)\n",
      "/Users/varunganti/opt/anaconda3/lib/python3.7/site-packages/sklearn/linear_model/logistic.py:469: FutureWarning: Default multi_class will be changed to 'auto' in 0.22. Specify the multi_class option to silence this warning.\n",
      "  \"this warning.\", FutureWarning)\n"
     ]
    },
    {
     "data": {
      "text/plain": [
       "LogisticRegression(C=1, class_weight=None, dual=False, fit_intercept=True,\n",
       "                   intercept_scaling=1, l1_ratio=None, max_iter=100,\n",
       "                   multi_class='warn', n_jobs=None, penalty='l1',\n",
       "                   random_state=None, solver='warn', tol=0.0001, verbose=0,\n",
       "                   warm_start=False)"
      ]
     },
     "execution_count": 152,
     "metadata": {},
     "output_type": "execute_result"
    }
   ],
   "source": [
    "logreg.fit(X_train, y_train)"
   ]
  },
  {
   "cell_type": "markdown",
   "metadata": {},
   "source": [
    "Answer:\n",
    "\n",
    "Scaling - Variables on different scales\n",
    "\n",
    "Not Scaling- Variables on a different scale"
   ]
  },
  {
   "cell_type": "code",
   "execution_count": 153,
   "metadata": {},
   "outputs": [
    {
     "data": {
      "text/plain": [
       "0.849153084052413"
      ]
     },
     "execution_count": 153,
     "metadata": {},
     "output_type": "execute_result"
    }
   ],
   "source": [
    "logreg.score(X_train, y_train)\n"
   ]
  },
  {
   "cell_type": "markdown",
   "metadata": {},
   "source": [
    "### 14. Let's use logistic regression to predict whether or not the person is left-handed.\n",
    "\n",
    "\n",
    "> Be sure to use the same train/test split with your data as with your $k$-NN model above!\n",
    "\n",
    "> Create four separate models, one with LASSO and $\\alpha = 1$, one with LASSO and $\\alpha = 10$, one with Ridge and $\\alpha = 1$, and one with Ridge and $\\alpha = 10$. *(Hint: Be careful with how you specify $\\alpha$ in your model!)*\n",
    "\n",
    "> Instantiate and fit your model."
   ]
  },
  {
   "cell_type": "code",
   "execution_count": 154,
   "metadata": {},
   "outputs": [
    {
     "data": {
      "text/plain": [
       "0.8486590038314177"
      ]
     },
     "execution_count": 154,
     "metadata": {},
     "output_type": "execute_result"
    }
   ],
   "source": [
    "logreg.score(X_test, y_test)"
   ]
  },
  {
   "cell_type": "code",
   "execution_count": 155,
   "metadata": {
    "scrolled": true
   },
   "outputs": [
    {
     "name": "stderr",
     "output_type": "stream",
     "text": [
      "/Users/varunganti/opt/anaconda3/lib/python3.7/site-packages/sklearn/linear_model/logistic.py:432: FutureWarning: Default solver will be changed to 'lbfgs' in 0.22. Specify a solver to silence this warning.\n",
      "  FutureWarning)\n",
      "/Users/varunganti/opt/anaconda3/lib/python3.7/site-packages/sklearn/linear_model/logistic.py:469: FutureWarning: Default multi_class will be changed to 'auto' in 0.22. Specify the multi_class option to silence this warning.\n",
      "  \"this warning.\", FutureWarning)\n",
      "/Users/varunganti/opt/anaconda3/lib/python3.7/site-packages/sklearn/linear_model/logistic.py:432: FutureWarning: Default solver will be changed to 'lbfgs' in 0.22. Specify a solver to silence this warning.\n",
      "  FutureWarning)\n",
      "/Users/varunganti/opt/anaconda3/lib/python3.7/site-packages/sklearn/linear_model/logistic.py:469: FutureWarning: Default multi_class will be changed to 'auto' in 0.22. Specify the multi_class option to silence this warning.\n",
      "  \"this warning.\", FutureWarning)\n",
      "/Users/varunganti/opt/anaconda3/lib/python3.7/site-packages/sklearn/linear_model/logistic.py:432: FutureWarning: Default solver will be changed to 'lbfgs' in 0.22. Specify a solver to silence this warning.\n",
      "  FutureWarning)\n",
      "/Users/varunganti/opt/anaconda3/lib/python3.7/site-packages/sklearn/linear_model/logistic.py:469: FutureWarning: Default multi_class will be changed to 'auto' in 0.22. Specify the multi_class option to silence this warning.\n",
      "  \"this warning.\", FutureWarning)\n"
     ]
    },
    {
     "data": {
      "text/plain": [
       "0.8488334002934618"
      ]
     },
     "execution_count": 155,
     "metadata": {},
     "output_type": "execute_result"
    }
   ],
   "source": [
    "\n",
    "cross_val_score(logreg, X_train, y_train, cv = 3).mean()"
   ]
  },
  {
   "cell_type": "markdown",
   "metadata": {},
   "source": [
    "# Lasso 10"
   ]
  },
  {
   "cell_type": "code",
   "execution_count": 156,
   "metadata": {},
   "outputs": [],
   "source": [
    "logreg = LogisticRegression(penalty = 'l1', C = 1/10)"
   ]
  },
  {
   "cell_type": "code",
   "execution_count": 157,
   "metadata": {},
   "outputs": [
    {
     "name": "stderr",
     "output_type": "stream",
     "text": [
      "/Users/varunganti/opt/anaconda3/lib/python3.7/site-packages/sklearn/linear_model/logistic.py:432: FutureWarning: Default solver will be changed to 'lbfgs' in 0.22. Specify a solver to silence this warning.\n",
      "  FutureWarning)\n",
      "/Users/varunganti/opt/anaconda3/lib/python3.7/site-packages/sklearn/linear_model/logistic.py:469: FutureWarning: Default multi_class will be changed to 'auto' in 0.22. Specify the multi_class option to silence this warning.\n",
      "  \"this warning.\", FutureWarning)\n"
     ]
    },
    {
     "data": {
      "text/plain": [
       "LogisticRegression(C=0.1, class_weight=None, dual=False, fit_intercept=True,\n",
       "                   intercept_scaling=1, l1_ratio=None, max_iter=100,\n",
       "                   multi_class='warn', n_jobs=None, penalty='l1',\n",
       "                   random_state=None, solver='warn', tol=0.0001, verbose=0,\n",
       "                   warm_start=False)"
      ]
     },
     "execution_count": 157,
     "metadata": {},
     "output_type": "execute_result"
    }
   ],
   "source": [
    "logreg.fit(X_train, y_train)"
   ]
  },
  {
   "cell_type": "code",
   "execution_count": 158,
   "metadata": {},
   "outputs": [
    {
     "data": {
      "text/plain": [
       "0.8488334931287952"
      ]
     },
     "execution_count": 158,
     "metadata": {},
     "output_type": "execute_result"
    }
   ],
   "source": [
    "logreg.score(X_train, y_train)\n"
   ]
  },
  {
   "cell_type": "code",
   "execution_count": 159,
   "metadata": {},
   "outputs": [
    {
     "data": {
      "text/plain": [
       "0.8486590038314177"
      ]
     },
     "execution_count": 159,
     "metadata": {},
     "output_type": "execute_result"
    }
   ],
   "source": [
    "logreg.score(X_test, y_test)"
   ]
  },
  {
   "cell_type": "code",
   "execution_count": 160,
   "metadata": {
    "scrolled": false
   },
   "outputs": [
    {
     "name": "stderr",
     "output_type": "stream",
     "text": [
      "/Users/varunganti/opt/anaconda3/lib/python3.7/site-packages/sklearn/linear_model/logistic.py:432: FutureWarning: Default solver will be changed to 'lbfgs' in 0.22. Specify a solver to silence this warning.\n",
      "  FutureWarning)\n",
      "/Users/varunganti/opt/anaconda3/lib/python3.7/site-packages/sklearn/linear_model/logistic.py:469: FutureWarning: Default multi_class will be changed to 'auto' in 0.22. Specify the multi_class option to silence this warning.\n",
      "  \"this warning.\", FutureWarning)\n",
      "/Users/varunganti/opt/anaconda3/lib/python3.7/site-packages/sklearn/linear_model/logistic.py:432: FutureWarning: Default solver will be changed to 'lbfgs' in 0.22. Specify a solver to silence this warning.\n",
      "  FutureWarning)\n",
      "/Users/varunganti/opt/anaconda3/lib/python3.7/site-packages/sklearn/linear_model/logistic.py:469: FutureWarning: Default multi_class will be changed to 'auto' in 0.22. Specify the multi_class option to silence this warning.\n",
      "  \"this warning.\", FutureWarning)\n",
      "/Users/varunganti/opt/anaconda3/lib/python3.7/site-packages/sklearn/linear_model/logistic.py:432: FutureWarning: Default solver will be changed to 'lbfgs' in 0.22. Specify a solver to silence this warning.\n",
      "  FutureWarning)\n",
      "/Users/varunganti/opt/anaconda3/lib/python3.7/site-packages/sklearn/linear_model/logistic.py:469: FutureWarning: Default multi_class will be changed to 'auto' in 0.22. Specify the multi_class option to silence this warning.\n",
      "  \"this warning.\", FutureWarning)\n"
     ]
    },
    {
     "data": {
      "text/plain": [
       "0.8488337070026014"
      ]
     },
     "execution_count": 160,
     "metadata": {},
     "output_type": "execute_result"
    }
   ],
   "source": [
    "\n",
    "cross_val_score(logreg, X_train, y_train, cv = 3).mean()"
   ]
  },
  {
   "cell_type": "markdown",
   "metadata": {},
   "source": [
    "# Ridge 1"
   ]
  },
  {
   "cell_type": "code",
   "execution_count": 161,
   "metadata": {},
   "outputs": [],
   "source": [
    "logreg = LogisticRegression(penalty = 'l2', C = 1)"
   ]
  },
  {
   "cell_type": "code",
   "execution_count": 162,
   "metadata": {},
   "outputs": [
    {
     "name": "stderr",
     "output_type": "stream",
     "text": [
      "/Users/varunganti/opt/anaconda3/lib/python3.7/site-packages/sklearn/linear_model/logistic.py:432: FutureWarning: Default solver will be changed to 'lbfgs' in 0.22. Specify a solver to silence this warning.\n",
      "  FutureWarning)\n",
      "/Users/varunganti/opt/anaconda3/lib/python3.7/site-packages/sklearn/linear_model/logistic.py:469: FutureWarning: Default multi_class will be changed to 'auto' in 0.22. Specify the multi_class option to silence this warning.\n",
      "  \"this warning.\", FutureWarning)\n"
     ]
    },
    {
     "data": {
      "text/plain": [
       "LogisticRegression(C=1, class_weight=None, dual=False, fit_intercept=True,\n",
       "                   intercept_scaling=1, l1_ratio=None, max_iter=100,\n",
       "                   multi_class='warn', n_jobs=None, penalty='l2',\n",
       "                   random_state=None, solver='warn', tol=0.0001, verbose=0,\n",
       "                   warm_start=False)"
      ]
     },
     "execution_count": 162,
     "metadata": {},
     "output_type": "execute_result"
    }
   ],
   "source": [
    "logreg.fit(X_train, y_train)"
   ]
  },
  {
   "cell_type": "code",
   "execution_count": 163,
   "metadata": {},
   "outputs": [
    {
     "data": {
      "text/plain": [
       "0.849153084052413"
      ]
     },
     "execution_count": 163,
     "metadata": {},
     "output_type": "execute_result"
    }
   ],
   "source": [
    "logreg.score(X_train, y_train)\n"
   ]
  },
  {
   "cell_type": "code",
   "execution_count": 164,
   "metadata": {},
   "outputs": [
    {
     "data": {
      "text/plain": [
       "0.8486590038314177"
      ]
     },
     "execution_count": 164,
     "metadata": {},
     "output_type": "execute_result"
    }
   ],
   "source": [
    "logreg.score(X_test, y_test)"
   ]
  },
  {
   "cell_type": "code",
   "execution_count": 165,
   "metadata": {
    "scrolled": true
   },
   "outputs": [
    {
     "name": "stderr",
     "output_type": "stream",
     "text": [
      "/Users/varunganti/opt/anaconda3/lib/python3.7/site-packages/sklearn/linear_model/logistic.py:432: FutureWarning: Default solver will be changed to 'lbfgs' in 0.22. Specify a solver to silence this warning.\n",
      "  FutureWarning)\n",
      "/Users/varunganti/opt/anaconda3/lib/python3.7/site-packages/sklearn/linear_model/logistic.py:469: FutureWarning: Default multi_class will be changed to 'auto' in 0.22. Specify the multi_class option to silence this warning.\n",
      "  \"this warning.\", FutureWarning)\n",
      "/Users/varunganti/opt/anaconda3/lib/python3.7/site-packages/sklearn/linear_model/logistic.py:432: FutureWarning: Default solver will be changed to 'lbfgs' in 0.22. Specify a solver to silence this warning.\n",
      "  FutureWarning)\n",
      "/Users/varunganti/opt/anaconda3/lib/python3.7/site-packages/sklearn/linear_model/logistic.py:469: FutureWarning: Default multi_class will be changed to 'auto' in 0.22. Specify the multi_class option to silence this warning.\n",
      "  \"this warning.\", FutureWarning)\n",
      "/Users/varunganti/opt/anaconda3/lib/python3.7/site-packages/sklearn/linear_model/logistic.py:432: FutureWarning: Default solver will be changed to 'lbfgs' in 0.22. Specify a solver to silence this warning.\n",
      "  FutureWarning)\n",
      "/Users/varunganti/opt/anaconda3/lib/python3.7/site-packages/sklearn/linear_model/logistic.py:469: FutureWarning: Default multi_class will be changed to 'auto' in 0.22. Specify the multi_class option to silence this warning.\n",
      "  \"this warning.\", FutureWarning)\n"
     ]
    },
    {
     "data": {
      "text/plain": [
       "0.8491532979262192"
      ]
     },
     "execution_count": 165,
     "metadata": {},
     "output_type": "execute_result"
    }
   ],
   "source": [
    "\n",
    "cross_val_score(logreg, X_train, y_train, cv = 3).mean()"
   ]
  },
  {
   "cell_type": "markdown",
   "metadata": {},
   "source": [
    "# Ridge 10"
   ]
  },
  {
   "cell_type": "code",
   "execution_count": 166,
   "metadata": {},
   "outputs": [],
   "source": [
    "logreg = LogisticRegression(penalty = 'l2', C = 1/10)"
   ]
  },
  {
   "cell_type": "code",
   "execution_count": 167,
   "metadata": {},
   "outputs": [
    {
     "name": "stderr",
     "output_type": "stream",
     "text": [
      "/Users/varunganti/opt/anaconda3/lib/python3.7/site-packages/sklearn/linear_model/logistic.py:432: FutureWarning: Default solver will be changed to 'lbfgs' in 0.22. Specify a solver to silence this warning.\n",
      "  FutureWarning)\n",
      "/Users/varunganti/opt/anaconda3/lib/python3.7/site-packages/sklearn/linear_model/logistic.py:469: FutureWarning: Default multi_class will be changed to 'auto' in 0.22. Specify the multi_class option to silence this warning.\n",
      "  \"this warning.\", FutureWarning)\n"
     ]
    },
    {
     "data": {
      "text/plain": [
       "LogisticRegression(C=0.1, class_weight=None, dual=False, fit_intercept=True,\n",
       "                   intercept_scaling=1, l1_ratio=None, max_iter=100,\n",
       "                   multi_class='warn', n_jobs=None, penalty='l2',\n",
       "                   random_state=None, solver='warn', tol=0.0001, verbose=0,\n",
       "                   warm_start=False)"
      ]
     },
     "execution_count": 167,
     "metadata": {},
     "output_type": "execute_result"
    }
   ],
   "source": [
    "logreg.fit(X_train, y_train)"
   ]
  },
  {
   "cell_type": "code",
   "execution_count": 168,
   "metadata": {},
   "outputs": [
    {
     "data": {
      "text/plain": [
       "0.849153084052413"
      ]
     },
     "execution_count": 168,
     "metadata": {},
     "output_type": "execute_result"
    }
   ],
   "source": [
    "logreg.score(X_train, y_train)\n"
   ]
  },
  {
   "cell_type": "code",
   "execution_count": 169,
   "metadata": {},
   "outputs": [
    {
     "data": {
      "text/plain": [
       "0.8486590038314177"
      ]
     },
     "execution_count": 169,
     "metadata": {},
     "output_type": "execute_result"
    }
   ],
   "source": [
    "logreg.score(X_test, y_test)"
   ]
  },
  {
   "cell_type": "code",
   "execution_count": 170,
   "metadata": {
    "scrolled": true
   },
   "outputs": [
    {
     "name": "stderr",
     "output_type": "stream",
     "text": [
      "/Users/varunganti/opt/anaconda3/lib/python3.7/site-packages/sklearn/linear_model/logistic.py:432: FutureWarning: Default solver will be changed to 'lbfgs' in 0.22. Specify a solver to silence this warning.\n",
      "  FutureWarning)\n",
      "/Users/varunganti/opt/anaconda3/lib/python3.7/site-packages/sklearn/linear_model/logistic.py:469: FutureWarning: Default multi_class will be changed to 'auto' in 0.22. Specify the multi_class option to silence this warning.\n",
      "  \"this warning.\", FutureWarning)\n",
      "/Users/varunganti/opt/anaconda3/lib/python3.7/site-packages/sklearn/linear_model/logistic.py:432: FutureWarning: Default solver will be changed to 'lbfgs' in 0.22. Specify a solver to silence this warning.\n",
      "  FutureWarning)\n",
      "/Users/varunganti/opt/anaconda3/lib/python3.7/site-packages/sklearn/linear_model/logistic.py:469: FutureWarning: Default multi_class will be changed to 'auto' in 0.22. Specify the multi_class option to silence this warning.\n",
      "  \"this warning.\", FutureWarning)\n",
      "/Users/varunganti/opt/anaconda3/lib/python3.7/site-packages/sklearn/linear_model/logistic.py:432: FutureWarning: Default solver will be changed to 'lbfgs' in 0.22. Specify a solver to silence this warning.\n",
      "  FutureWarning)\n",
      "/Users/varunganti/opt/anaconda3/lib/python3.7/site-packages/sklearn/linear_model/logistic.py:469: FutureWarning: Default multi_class will be changed to 'auto' in 0.22. Specify the multi_class option to silence this warning.\n",
      "  \"this warning.\", FutureWarning)\n"
     ]
    },
    {
     "data": {
      "text/plain": [
       "0.8491532979262192"
      ]
     },
     "execution_count": 170,
     "metadata": {},
     "output_type": "execute_result"
    }
   ],
   "source": [
    "\n",
    "cross_val_score(logreg, X_train, y_train, cv = 3).mean()"
   ]
  },
  {
   "cell_type": "markdown",
   "metadata": {},
   "source": [
    "---\n",
    "## Step 5: Evaluate the model(s).\n",
    "\n",
    "### 15. Before calculating any score on your data, take a step back. Think about your $X$ variable and your $Y$ variable. Do you think your $X$ variables will do a good job of predicting your $Y$ variable? Why or why not? What impact do you think this will have on your scores?"
   ]
  },
  {
   "cell_type": "markdown",
   "metadata": {},
   "source": [
    "Answer:\n",
    "\n",
    "I think right and left handed is based on genetics and not personality factors. I think left or right handed could be used as a predictor for something else. I think its completley random so no model can suffice for this\n",
    "\n"
   ]
  },
  {
   "cell_type": "markdown",
   "metadata": {},
   "source": [
    "### 16. Using accuracy as your metric, evaluate all eight of your models on both the training and testing sets. Put your scores below. (If you want to be fancy and generate a table in Markdown, there's a [Markdown table generator site linked here](https://www.tablesgenerator.com/markdown_tables#).)\n",
    "- Note: Your answers here might look a little weird. You didn't do anything wrong; that's to be expected!"
   ]
  },
  {
   "cell_type": "markdown",
   "metadata": {},
   "source": [
    "Answer:"
   ]
  },
  {
   "cell_type": "code",
   "execution_count": null,
   "metadata": {},
   "outputs": [],
   "source": []
  },
  {
   "cell_type": "markdown",
   "metadata": {},
   "source": [
    "# 1"
   ]
  },
  {
   "cell_type": "code",
   "execution_count": 130,
   "metadata": {},
   "outputs": [],
   "source": [
    "\n",
    "knn = KNeighborsClassifier(n_neighbors=3)"
   ]
  },
  {
   "cell_type": "code",
   "execution_count": 131,
   "metadata": {},
   "outputs": [
    {
     "data": {
      "text/plain": [
       "KNeighborsClassifier(algorithm='auto', leaf_size=30, metric='minkowski',\n",
       "                     metric_params=None, n_jobs=None, n_neighbors=3, p=2,\n",
       "                     weights='uniform')"
      ]
     },
     "execution_count": 131,
     "metadata": {},
     "output_type": "execute_result"
    }
   ],
   "source": [
    "knn.fit(X_train, y_train)"
   ]
  },
  {
   "cell_type": "code",
   "execution_count": 133,
   "metadata": {},
   "outputs": [
    {
     "data": {
      "text/plain": [
       "0.8609779482262704"
      ]
     },
     "execution_count": 133,
     "metadata": {},
     "output_type": "execute_result"
    }
   ],
   "source": [
    "knn.score(X_train, y_train)"
   ]
  },
  {
   "cell_type": "code",
   "execution_count": 134,
   "metadata": {},
   "outputs": [
    {
     "data": {
      "text/plain": [
       "0.8256704980842912"
      ]
     },
     "execution_count": 134,
     "metadata": {},
     "output_type": "execute_result"
    }
   ],
   "source": [
    "knn.score(X_test, y_test)\n",
    "\n"
   ]
  },
  {
   "cell_type": "code",
   "execution_count": 135,
   "metadata": {},
   "outputs": [
    {
     "data": {
      "text/plain": [
       "0.8197506115551096"
      ]
     },
     "execution_count": 135,
     "metadata": {},
     "output_type": "execute_result"
    }
   ],
   "source": [
    "cross_val_score(knn, X_train, y_train, cv = 3).mean()"
   ]
  },
  {
   "cell_type": "markdown",
   "metadata": {},
   "source": [
    "# 2"
   ]
  },
  {
   "cell_type": "code",
   "execution_count": 136,
   "metadata": {},
   "outputs": [],
   "source": [
    "\n",
    "knn = KNeighborsClassifier(n_neighbors=5)"
   ]
  },
  {
   "cell_type": "code",
   "execution_count": 137,
   "metadata": {},
   "outputs": [
    {
     "data": {
      "text/plain": [
       "KNeighborsClassifier(algorithm='auto', leaf_size=30, metric='minkowski',\n",
       "                     metric_params=None, n_jobs=None, n_neighbors=5, p=2,\n",
       "                     weights='uniform')"
      ]
     },
     "execution_count": 137,
     "metadata": {},
     "output_type": "execute_result"
    }
   ],
   "source": [
    "knn.fit(X_train, y_train)"
   ]
  },
  {
   "cell_type": "code",
   "execution_count": 138,
   "metadata": {},
   "outputs": [
    {
     "data": {
      "text/plain": [
       "0.851709811441355"
      ]
     },
     "execution_count": 138,
     "metadata": {},
     "output_type": "execute_result"
    }
   ],
   "source": [
    "knn.score(X_train, y_train)"
   ]
  },
  {
   "cell_type": "code",
   "execution_count": 139,
   "metadata": {},
   "outputs": [
    {
     "data": {
      "text/plain": [
       "0.8457854406130269"
      ]
     },
     "execution_count": 139,
     "metadata": {},
     "output_type": "execute_result"
    }
   ],
   "source": [
    "knn.score(X_test, y_test)\n",
    "\n"
   ]
  },
  {
   "cell_type": "code",
   "execution_count": 140,
   "metadata": {},
   "outputs": [
    {
     "data": {
      "text/plain": [
       "0.8418033148132014"
      ]
     },
     "execution_count": 140,
     "metadata": {},
     "output_type": "execute_result"
    }
   ],
   "source": [
    "cross_val_score(knn, X_train, y_train, cv = 3).mean()"
   ]
  },
  {
   "cell_type": "markdown",
   "metadata": {},
   "source": [
    "# 3"
   ]
  },
  {
   "cell_type": "code",
   "execution_count": 141,
   "metadata": {},
   "outputs": [],
   "source": [
    "\n",
    "knn = KNeighborsClassifier(n_neighbors=15)"
   ]
  },
  {
   "cell_type": "code",
   "execution_count": 142,
   "metadata": {},
   "outputs": [
    {
     "data": {
      "text/plain": [
       "KNeighborsClassifier(algorithm='auto', leaf_size=30, metric='minkowski',\n",
       "                     metric_params=None, n_jobs=None, n_neighbors=15, p=2,\n",
       "                     weights='uniform')"
      ]
     },
     "execution_count": 142,
     "metadata": {},
     "output_type": "execute_result"
    }
   ],
   "source": [
    "knn.fit(X_train, y_train)"
   ]
  },
  {
   "cell_type": "code",
   "execution_count": 143,
   "metadata": {},
   "outputs": [
    {
     "data": {
      "text/plain": [
       "0.849153084052413"
      ]
     },
     "execution_count": 143,
     "metadata": {},
     "output_type": "execute_result"
    }
   ],
   "source": [
    "knn.score(X_train, y_train)"
   ]
  },
  {
   "cell_type": "code",
   "execution_count": 144,
   "metadata": {},
   "outputs": [
    {
     "data": {
      "text/plain": [
       "0.8486590038314177"
      ]
     },
     "execution_count": 144,
     "metadata": {},
     "output_type": "execute_result"
    }
   ],
   "source": [
    "knn.score(X_test, y_test)\n",
    "\n"
   ]
  },
  {
   "cell_type": "code",
   "execution_count": 145,
   "metadata": {
    "scrolled": true
   },
   "outputs": [
    {
     "data": {
      "text/plain": [
       "0.8488337070026014"
      ]
     },
     "execution_count": 145,
     "metadata": {},
     "output_type": "execute_result"
    }
   ],
   "source": [
    "cross_val_score(knn, X_train, y_train, cv = 3).mean()"
   ]
  },
  {
   "cell_type": "markdown",
   "metadata": {},
   "source": [
    "# 4"
   ]
  },
  {
   "cell_type": "code",
   "execution_count": 146,
   "metadata": {},
   "outputs": [],
   "source": [
    "\n",
    "knn = KNeighborsClassifier(n_neighbors=25)"
   ]
  },
  {
   "cell_type": "code",
   "execution_count": 147,
   "metadata": {},
   "outputs": [
    {
     "data": {
      "text/plain": [
       "KNeighborsClassifier(algorithm='auto', leaf_size=30, metric='minkowski',\n",
       "                     metric_params=None, n_jobs=None, n_neighbors=25, p=2,\n",
       "                     weights='uniform')"
      ]
     },
     "execution_count": 147,
     "metadata": {},
     "output_type": "execute_result"
    }
   ],
   "source": [
    "knn.fit(X_train, y_train)"
   ]
  },
  {
   "cell_type": "code",
   "execution_count": 148,
   "metadata": {},
   "outputs": [
    {
     "data": {
      "text/plain": [
       "0.8488334931287952"
      ]
     },
     "execution_count": 148,
     "metadata": {},
     "output_type": "execute_result"
    }
   ],
   "source": [
    "knn.score(X_train, y_train)"
   ]
  },
  {
   "cell_type": "code",
   "execution_count": 149,
   "metadata": {},
   "outputs": [
    {
     "data": {
      "text/plain": [
       "0.8486590038314177"
      ]
     },
     "execution_count": 149,
     "metadata": {},
     "output_type": "execute_result"
    }
   ],
   "source": [
    "knn.score(X_test, y_test)\n",
    "\n"
   ]
  },
  {
   "cell_type": "code",
   "execution_count": 150,
   "metadata": {},
   "outputs": [
    {
     "data": {
      "text/plain": [
       "0.8488337070026014"
      ]
     },
     "execution_count": 150,
     "metadata": {},
     "output_type": "execute_result"
    }
   ],
   "source": [
    "cross_val_score(knn, X_train, y_train, cv = 3).mean()"
   ]
  },
  {
   "cell_type": "markdown",
   "metadata": {},
   "source": [
    "# 5"
   ]
  },
  {
   "cell_type": "code",
   "execution_count": 151,
   "metadata": {},
   "outputs": [],
   "source": [
    "logreg = LogisticRegression(penalty = 'l1', C = 1)"
   ]
  },
  {
   "cell_type": "code",
   "execution_count": 152,
   "metadata": {},
   "outputs": [
    {
     "name": "stderr",
     "output_type": "stream",
     "text": [
      "/Users/varunganti/opt/anaconda3/lib/python3.7/site-packages/sklearn/linear_model/logistic.py:432: FutureWarning: Default solver will be changed to 'lbfgs' in 0.22. Specify a solver to silence this warning.\n",
      "  FutureWarning)\n",
      "/Users/varunganti/opt/anaconda3/lib/python3.7/site-packages/sklearn/linear_model/logistic.py:469: FutureWarning: Default multi_class will be changed to 'auto' in 0.22. Specify the multi_class option to silence this warning.\n",
      "  \"this warning.\", FutureWarning)\n"
     ]
    },
    {
     "data": {
      "text/plain": [
       "LogisticRegression(C=1, class_weight=None, dual=False, fit_intercept=True,\n",
       "                   intercept_scaling=1, l1_ratio=None, max_iter=100,\n",
       "                   multi_class='warn', n_jobs=None, penalty='l1',\n",
       "                   random_state=None, solver='warn', tol=0.0001, verbose=0,\n",
       "                   warm_start=False)"
      ]
     },
     "execution_count": 152,
     "metadata": {},
     "output_type": "execute_result"
    }
   ],
   "source": [
    "logreg.fit(X_train, y_train)"
   ]
  },
  {
   "cell_type": "code",
   "execution_count": 153,
   "metadata": {},
   "outputs": [
    {
     "data": {
      "text/plain": [
       "0.849153084052413"
      ]
     },
     "execution_count": 153,
     "metadata": {},
     "output_type": "execute_result"
    }
   ],
   "source": [
    "logreg.score(X_train, y_train)\n"
   ]
  },
  {
   "cell_type": "code",
   "execution_count": 154,
   "metadata": {},
   "outputs": [
    {
     "data": {
      "text/plain": [
       "0.8486590038314177"
      ]
     },
     "execution_count": 154,
     "metadata": {},
     "output_type": "execute_result"
    }
   ],
   "source": [
    "logreg.score(X_test, y_test)"
   ]
  },
  {
   "cell_type": "code",
   "execution_count": 155,
   "metadata": {
    "scrolled": true
   },
   "outputs": [
    {
     "name": "stderr",
     "output_type": "stream",
     "text": [
      "/Users/varunganti/opt/anaconda3/lib/python3.7/site-packages/sklearn/linear_model/logistic.py:432: FutureWarning: Default solver will be changed to 'lbfgs' in 0.22. Specify a solver to silence this warning.\n",
      "  FutureWarning)\n",
      "/Users/varunganti/opt/anaconda3/lib/python3.7/site-packages/sklearn/linear_model/logistic.py:469: FutureWarning: Default multi_class will be changed to 'auto' in 0.22. Specify the multi_class option to silence this warning.\n",
      "  \"this warning.\", FutureWarning)\n",
      "/Users/varunganti/opt/anaconda3/lib/python3.7/site-packages/sklearn/linear_model/logistic.py:432: FutureWarning: Default solver will be changed to 'lbfgs' in 0.22. Specify a solver to silence this warning.\n",
      "  FutureWarning)\n",
      "/Users/varunganti/opt/anaconda3/lib/python3.7/site-packages/sklearn/linear_model/logistic.py:469: FutureWarning: Default multi_class will be changed to 'auto' in 0.22. Specify the multi_class option to silence this warning.\n",
      "  \"this warning.\", FutureWarning)\n",
      "/Users/varunganti/opt/anaconda3/lib/python3.7/site-packages/sklearn/linear_model/logistic.py:432: FutureWarning: Default solver will be changed to 'lbfgs' in 0.22. Specify a solver to silence this warning.\n",
      "  FutureWarning)\n",
      "/Users/varunganti/opt/anaconda3/lib/python3.7/site-packages/sklearn/linear_model/logistic.py:469: FutureWarning: Default multi_class will be changed to 'auto' in 0.22. Specify the multi_class option to silence this warning.\n",
      "  \"this warning.\", FutureWarning)\n"
     ]
    },
    {
     "data": {
      "text/plain": [
       "0.8488334002934618"
      ]
     },
     "execution_count": 155,
     "metadata": {},
     "output_type": "execute_result"
    }
   ],
   "source": [
    "\n",
    "cross_val_score(logreg, X_train, y_train, cv = 3).mean()"
   ]
  },
  {
   "cell_type": "markdown",
   "metadata": {},
   "source": [
    "# 6"
   ]
  },
  {
   "cell_type": "code",
   "execution_count": 156,
   "metadata": {},
   "outputs": [],
   "source": [
    "logreg = LogisticRegression(penalty = 'l1', C = 1/10)"
   ]
  },
  {
   "cell_type": "code",
   "execution_count": 157,
   "metadata": {},
   "outputs": [
    {
     "name": "stderr",
     "output_type": "stream",
     "text": [
      "/Users/varunganti/opt/anaconda3/lib/python3.7/site-packages/sklearn/linear_model/logistic.py:432: FutureWarning: Default solver will be changed to 'lbfgs' in 0.22. Specify a solver to silence this warning.\n",
      "  FutureWarning)\n",
      "/Users/varunganti/opt/anaconda3/lib/python3.7/site-packages/sklearn/linear_model/logistic.py:469: FutureWarning: Default multi_class will be changed to 'auto' in 0.22. Specify the multi_class option to silence this warning.\n",
      "  \"this warning.\", FutureWarning)\n"
     ]
    },
    {
     "data": {
      "text/plain": [
       "LogisticRegression(C=0.1, class_weight=None, dual=False, fit_intercept=True,\n",
       "                   intercept_scaling=1, l1_ratio=None, max_iter=100,\n",
       "                   multi_class='warn', n_jobs=None, penalty='l1',\n",
       "                   random_state=None, solver='warn', tol=0.0001, verbose=0,\n",
       "                   warm_start=False)"
      ]
     },
     "execution_count": 157,
     "metadata": {},
     "output_type": "execute_result"
    }
   ],
   "source": [
    "logreg.fit(X_train, y_train)"
   ]
  },
  {
   "cell_type": "code",
   "execution_count": 158,
   "metadata": {},
   "outputs": [
    {
     "data": {
      "text/plain": [
       "0.8488334931287952"
      ]
     },
     "execution_count": 158,
     "metadata": {},
     "output_type": "execute_result"
    }
   ],
   "source": [
    "logreg.score(X_train, y_train)\n"
   ]
  },
  {
   "cell_type": "code",
   "execution_count": 159,
   "metadata": {},
   "outputs": [
    {
     "data": {
      "text/plain": [
       "0.8486590038314177"
      ]
     },
     "execution_count": 159,
     "metadata": {},
     "output_type": "execute_result"
    }
   ],
   "source": [
    "logreg.score(X_test, y_test)"
   ]
  },
  {
   "cell_type": "code",
   "execution_count": 160,
   "metadata": {
    "scrolled": false
   },
   "outputs": [
    {
     "name": "stderr",
     "output_type": "stream",
     "text": [
      "/Users/varunganti/opt/anaconda3/lib/python3.7/site-packages/sklearn/linear_model/logistic.py:432: FutureWarning: Default solver will be changed to 'lbfgs' in 0.22. Specify a solver to silence this warning.\n",
      "  FutureWarning)\n",
      "/Users/varunganti/opt/anaconda3/lib/python3.7/site-packages/sklearn/linear_model/logistic.py:469: FutureWarning: Default multi_class will be changed to 'auto' in 0.22. Specify the multi_class option to silence this warning.\n",
      "  \"this warning.\", FutureWarning)\n",
      "/Users/varunganti/opt/anaconda3/lib/python3.7/site-packages/sklearn/linear_model/logistic.py:432: FutureWarning: Default solver will be changed to 'lbfgs' in 0.22. Specify a solver to silence this warning.\n",
      "  FutureWarning)\n",
      "/Users/varunganti/opt/anaconda3/lib/python3.7/site-packages/sklearn/linear_model/logistic.py:469: FutureWarning: Default multi_class will be changed to 'auto' in 0.22. Specify the multi_class option to silence this warning.\n",
      "  \"this warning.\", FutureWarning)\n",
      "/Users/varunganti/opt/anaconda3/lib/python3.7/site-packages/sklearn/linear_model/logistic.py:432: FutureWarning: Default solver will be changed to 'lbfgs' in 0.22. Specify a solver to silence this warning.\n",
      "  FutureWarning)\n",
      "/Users/varunganti/opt/anaconda3/lib/python3.7/site-packages/sklearn/linear_model/logistic.py:469: FutureWarning: Default multi_class will be changed to 'auto' in 0.22. Specify the multi_class option to silence this warning.\n",
      "  \"this warning.\", FutureWarning)\n"
     ]
    },
    {
     "data": {
      "text/plain": [
       "0.8488337070026014"
      ]
     },
     "execution_count": 160,
     "metadata": {},
     "output_type": "execute_result"
    }
   ],
   "source": [
    "\n",
    "cross_val_score(logreg, X_train, y_train, cv = 3).mean()"
   ]
  },
  {
   "cell_type": "markdown",
   "metadata": {},
   "source": [
    "# 7"
   ]
  },
  {
   "cell_type": "code",
   "execution_count": 161,
   "metadata": {},
   "outputs": [],
   "source": [
    "logreg = LogisticRegression(penalty = 'l2', C = 1)"
   ]
  },
  {
   "cell_type": "code",
   "execution_count": 162,
   "metadata": {},
   "outputs": [
    {
     "name": "stderr",
     "output_type": "stream",
     "text": [
      "/Users/varunganti/opt/anaconda3/lib/python3.7/site-packages/sklearn/linear_model/logistic.py:432: FutureWarning: Default solver will be changed to 'lbfgs' in 0.22. Specify a solver to silence this warning.\n",
      "  FutureWarning)\n",
      "/Users/varunganti/opt/anaconda3/lib/python3.7/site-packages/sklearn/linear_model/logistic.py:469: FutureWarning: Default multi_class will be changed to 'auto' in 0.22. Specify the multi_class option to silence this warning.\n",
      "  \"this warning.\", FutureWarning)\n"
     ]
    },
    {
     "data": {
      "text/plain": [
       "LogisticRegression(C=1, class_weight=None, dual=False, fit_intercept=True,\n",
       "                   intercept_scaling=1, l1_ratio=None, max_iter=100,\n",
       "                   multi_class='warn', n_jobs=None, penalty='l2',\n",
       "                   random_state=None, solver='warn', tol=0.0001, verbose=0,\n",
       "                   warm_start=False)"
      ]
     },
     "execution_count": 162,
     "metadata": {},
     "output_type": "execute_result"
    }
   ],
   "source": [
    "logreg.fit(X_train, y_train)"
   ]
  },
  {
   "cell_type": "code",
   "execution_count": 163,
   "metadata": {},
   "outputs": [
    {
     "data": {
      "text/plain": [
       "0.849153084052413"
      ]
     },
     "execution_count": 163,
     "metadata": {},
     "output_type": "execute_result"
    }
   ],
   "source": [
    "logreg.score(X_train, y_train)\n"
   ]
  },
  {
   "cell_type": "code",
   "execution_count": 164,
   "metadata": {},
   "outputs": [
    {
     "data": {
      "text/plain": [
       "0.8486590038314177"
      ]
     },
     "execution_count": 164,
     "metadata": {},
     "output_type": "execute_result"
    }
   ],
   "source": [
    "logreg.score(X_test, y_test)"
   ]
  },
  {
   "cell_type": "code",
   "execution_count": 165,
   "metadata": {
    "scrolled": true
   },
   "outputs": [
    {
     "name": "stderr",
     "output_type": "stream",
     "text": [
      "/Users/varunganti/opt/anaconda3/lib/python3.7/site-packages/sklearn/linear_model/logistic.py:432: FutureWarning: Default solver will be changed to 'lbfgs' in 0.22. Specify a solver to silence this warning.\n",
      "  FutureWarning)\n",
      "/Users/varunganti/opt/anaconda3/lib/python3.7/site-packages/sklearn/linear_model/logistic.py:469: FutureWarning: Default multi_class will be changed to 'auto' in 0.22. Specify the multi_class option to silence this warning.\n",
      "  \"this warning.\", FutureWarning)\n",
      "/Users/varunganti/opt/anaconda3/lib/python3.7/site-packages/sklearn/linear_model/logistic.py:432: FutureWarning: Default solver will be changed to 'lbfgs' in 0.22. Specify a solver to silence this warning.\n",
      "  FutureWarning)\n",
      "/Users/varunganti/opt/anaconda3/lib/python3.7/site-packages/sklearn/linear_model/logistic.py:469: FutureWarning: Default multi_class will be changed to 'auto' in 0.22. Specify the multi_class option to silence this warning.\n",
      "  \"this warning.\", FutureWarning)\n",
      "/Users/varunganti/opt/anaconda3/lib/python3.7/site-packages/sklearn/linear_model/logistic.py:432: FutureWarning: Default solver will be changed to 'lbfgs' in 0.22. Specify a solver to silence this warning.\n",
      "  FutureWarning)\n",
      "/Users/varunganti/opt/anaconda3/lib/python3.7/site-packages/sklearn/linear_model/logistic.py:469: FutureWarning: Default multi_class will be changed to 'auto' in 0.22. Specify the multi_class option to silence this warning.\n",
      "  \"this warning.\", FutureWarning)\n"
     ]
    },
    {
     "data": {
      "text/plain": [
       "0.8491532979262192"
      ]
     },
     "execution_count": 165,
     "metadata": {},
     "output_type": "execute_result"
    }
   ],
   "source": [
    "\n",
    "cross_val_score(logreg, X_train, y_train, cv = 3).mean()"
   ]
  },
  {
   "cell_type": "code",
   "execution_count": null,
   "metadata": {},
   "outputs": [],
   "source": []
  },
  {
   "cell_type": "markdown",
   "metadata": {},
   "source": [
    "# 8"
   ]
  },
  {
   "cell_type": "code",
   "execution_count": 166,
   "metadata": {},
   "outputs": [],
   "source": [
    "logreg = LogisticRegression(penalty = 'l2', C = 1/10)"
   ]
  },
  {
   "cell_type": "code",
   "execution_count": 167,
   "metadata": {},
   "outputs": [
    {
     "name": "stderr",
     "output_type": "stream",
     "text": [
      "/Users/varunganti/opt/anaconda3/lib/python3.7/site-packages/sklearn/linear_model/logistic.py:432: FutureWarning: Default solver will be changed to 'lbfgs' in 0.22. Specify a solver to silence this warning.\n",
      "  FutureWarning)\n",
      "/Users/varunganti/opt/anaconda3/lib/python3.7/site-packages/sklearn/linear_model/logistic.py:469: FutureWarning: Default multi_class will be changed to 'auto' in 0.22. Specify the multi_class option to silence this warning.\n",
      "  \"this warning.\", FutureWarning)\n"
     ]
    },
    {
     "data": {
      "text/plain": [
       "LogisticRegression(C=0.1, class_weight=None, dual=False, fit_intercept=True,\n",
       "                   intercept_scaling=1, l1_ratio=None, max_iter=100,\n",
       "                   multi_class='warn', n_jobs=None, penalty='l2',\n",
       "                   random_state=None, solver='warn', tol=0.0001, verbose=0,\n",
       "                   warm_start=False)"
      ]
     },
     "execution_count": 167,
     "metadata": {},
     "output_type": "execute_result"
    }
   ],
   "source": [
    "logreg.fit(X_train, y_train)"
   ]
  },
  {
   "cell_type": "code",
   "execution_count": 168,
   "metadata": {},
   "outputs": [
    {
     "data": {
      "text/plain": [
       "0.849153084052413"
      ]
     },
     "execution_count": 168,
     "metadata": {},
     "output_type": "execute_result"
    }
   ],
   "source": [
    "logreg.score(X_train, y_train)\n"
   ]
  },
  {
   "cell_type": "code",
   "execution_count": 169,
   "metadata": {},
   "outputs": [
    {
     "data": {
      "text/plain": [
       "0.8486590038314177"
      ]
     },
     "execution_count": 169,
     "metadata": {},
     "output_type": "execute_result"
    }
   ],
   "source": [
    "logreg.score(X_test, y_test)"
   ]
  },
  {
   "cell_type": "code",
   "execution_count": 170,
   "metadata": {
    "scrolled": true
   },
   "outputs": [
    {
     "name": "stderr",
     "output_type": "stream",
     "text": [
      "/Users/varunganti/opt/anaconda3/lib/python3.7/site-packages/sklearn/linear_model/logistic.py:432: FutureWarning: Default solver will be changed to 'lbfgs' in 0.22. Specify a solver to silence this warning.\n",
      "  FutureWarning)\n",
      "/Users/varunganti/opt/anaconda3/lib/python3.7/site-packages/sklearn/linear_model/logistic.py:469: FutureWarning: Default multi_class will be changed to 'auto' in 0.22. Specify the multi_class option to silence this warning.\n",
      "  \"this warning.\", FutureWarning)\n",
      "/Users/varunganti/opt/anaconda3/lib/python3.7/site-packages/sklearn/linear_model/logistic.py:432: FutureWarning: Default solver will be changed to 'lbfgs' in 0.22. Specify a solver to silence this warning.\n",
      "  FutureWarning)\n",
      "/Users/varunganti/opt/anaconda3/lib/python3.7/site-packages/sklearn/linear_model/logistic.py:469: FutureWarning: Default multi_class will be changed to 'auto' in 0.22. Specify the multi_class option to silence this warning.\n",
      "  \"this warning.\", FutureWarning)\n",
      "/Users/varunganti/opt/anaconda3/lib/python3.7/site-packages/sklearn/linear_model/logistic.py:432: FutureWarning: Default solver will be changed to 'lbfgs' in 0.22. Specify a solver to silence this warning.\n",
      "  FutureWarning)\n",
      "/Users/varunganti/opt/anaconda3/lib/python3.7/site-packages/sklearn/linear_model/logistic.py:469: FutureWarning: Default multi_class will be changed to 'auto' in 0.22. Specify the multi_class option to silence this warning.\n",
      "  \"this warning.\", FutureWarning)\n"
     ]
    },
    {
     "data": {
      "text/plain": [
       "0.8491532979262192"
      ]
     },
     "execution_count": 170,
     "metadata": {},
     "output_type": "execute_result"
    }
   ],
   "source": [
    "\n",
    "cross_val_score(logreg, X_train, y_train, cv = 3).mean()"
   ]
  },
  {
   "cell_type": "markdown",
   "metadata": {},
   "source": [
    "### 17. In which of your $k$-NN models is there evidence of overfitting? How do you know?"
   ]
  },
  {
   "cell_type": "markdown",
   "metadata": {},
   "source": [
    "Answer:\n",
    "\n",
    "Where k = 15, 25. The cross val scores are higher on train vs test"
   ]
  },
  {
   "cell_type": "markdown",
   "metadata": {},
   "source": [
    "### 18. Broadly speaking, how does the value of $k$ in $k$-NN affect the bias-variance tradeoff? (i.e. As $k$ increases, how are bias and variance affected?)"
   ]
  },
  {
   "cell_type": "markdown",
   "metadata": {},
   "source": [
    "Answer:\n",
    "\n",
    "As k increases, bias goes up and variance goes down"
   ]
  },
  {
   "cell_type": "markdown",
   "metadata": {},
   "source": [
    "### 19. If you have a $k$-NN model that has evidence of overfitting, what are three things you might try to do to combat overfitting?"
   ]
  },
  {
   "cell_type": "markdown",
   "metadata": {},
   "source": [
    "Answer:\n",
    "\n",
    "1)Remove Features\n",
    "\n",
    "2)Regularize with lasso ridge\n",
    "\n",
    "3)Reduce number of neighbors or increase"
   ]
  },
  {
   "cell_type": "markdown",
   "metadata": {},
   "source": [
    "### 20. In which of your logistic regression models is there evidence of overfitting? How do you know?"
   ]
  },
  {
   "cell_type": "markdown",
   "metadata": {},
   "source": [
    "Answer: All 4 models show overfitting. Train score is higher than test score"
   ]
  },
  {
   "cell_type": "markdown",
   "metadata": {},
   "source": [
    "# NOTE: In order to answer questions 21 through 23, you'll need knowledge of regularization, which we'll learn on Wedensday morning!"
   ]
  },
  {
   "cell_type": "markdown",
   "metadata": {},
   "source": [
    "### 21. Broadly speaking, how does the value of $C$ in logistic regression affect the bias-variance tradeoff? (i.e. As $C$ increases, how are bias and variance affected?)"
   ]
  },
  {
   "cell_type": "markdown",
   "metadata": {},
   "source": [
    "Answer:\n",
    "\n",
    "As C in logistic regression increases, bias is increased and variance is decreased"
   ]
  },
  {
   "cell_type": "markdown",
   "metadata": {},
   "source": [
    "### 22. For your logistic regression models, play around with the regularization hyperparameter, $C$. As you vary $C$, what happens to the fit and coefficients in the model? What do you think this means in the context of this specific problem?"
   ]
  },
  {
   "cell_type": "markdown",
   "metadata": {},
   "source": [
    "Answer:\n",
    "\n",
    "As C increases train score becomes less than test score. Less overfit in model"
   ]
  },
  {
   "cell_type": "markdown",
   "metadata": {},
   "source": [
    "### 23. If you have a logistic regression model that has evidence of overfitting, what are three things you might try to do to combat overfitting?"
   ]
  },
  {
   "cell_type": "markdown",
   "metadata": {},
   "source": [
    "Answer:\n",
    "\n",
    "1)Remove Features\n",
    "\n",
    "2)Regularize with lasso ridge\n",
    "\n",
    "3)Reduce number of neighbors or increase"
   ]
  },
  {
   "cell_type": "markdown",
   "metadata": {},
   "source": [
    "---\n",
    "## Step 6: Answer the problem.\n",
    "\n",
    "### 24. Suppose you want to understand which psychological features are most important in determining left-handedness. Would you rather use $k$-NN or logistic regression? Why?"
   ]
  },
  {
   "cell_type": "markdown",
   "metadata": {},
   "source": [
    "Answer:\n",
    "\n",
    "Logistic Regression because it will show me which variables have a linear relationship with y"
   ]
  },
  {
   "cell_type": "markdown",
   "metadata": {},
   "source": [
    "### 25. Select your original logistic regression model (the one with no regularization). Interpret the coefficient for `Q1`."
   ]
  },
  {
   "cell_type": "markdown",
   "metadata": {},
   "source": [
    "Answer:"
   ]
  },
  {
   "cell_type": "code",
   "execution_count": 185,
   "metadata": {},
   "outputs": [],
   "source": [
    "logreg = LogisticRegression(penalty = 'l1', C = (1))\n"
   ]
  },
  {
   "cell_type": "code",
   "execution_count": 186,
   "metadata": {},
   "outputs": [
    {
     "name": "stderr",
     "output_type": "stream",
     "text": [
      "/Users/varunganti/opt/anaconda3/lib/python3.7/site-packages/sklearn/linear_model/logistic.py:432: FutureWarning: Default solver will be changed to 'lbfgs' in 0.22. Specify a solver to silence this warning.\n",
      "  FutureWarning)\n",
      "/Users/varunganti/opt/anaconda3/lib/python3.7/site-packages/sklearn/linear_model/logistic.py:469: FutureWarning: Default multi_class will be changed to 'auto' in 0.22. Specify the multi_class option to silence this warning.\n",
      "  \"this warning.\", FutureWarning)\n"
     ]
    },
    {
     "data": {
      "text/plain": [
       "LogisticRegression(C=1, class_weight=None, dual=False, fit_intercept=True,\n",
       "                   intercept_scaling=1, l1_ratio=None, max_iter=100,\n",
       "                   multi_class='warn', n_jobs=None, penalty='l1',\n",
       "                   random_state=None, solver='warn', tol=0.0001, verbose=0,\n",
       "                   warm_start=False)"
      ]
     },
     "execution_count": 186,
     "metadata": {},
     "output_type": "execute_result"
    }
   ],
   "source": [
    "logreg.fit(X_train, y_train)\n"
   ]
  },
  {
   "cell_type": "code",
   "execution_count": 187,
   "metadata": {},
   "outputs": [
    {
     "name": "stderr",
     "output_type": "stream",
     "text": [
      "/Users/varunganti/opt/anaconda3/lib/python3.7/site-packages/sklearn/linear_model/logistic.py:432: FutureWarning: Default solver will be changed to 'lbfgs' in 0.22. Specify a solver to silence this warning.\n",
      "  FutureWarning)\n",
      "/Users/varunganti/opt/anaconda3/lib/python3.7/site-packages/sklearn/linear_model/logistic.py:469: FutureWarning: Default multi_class will be changed to 'auto' in 0.22. Specify the multi_class option to silence this warning.\n",
      "  \"this warning.\", FutureWarning)\n",
      "/Users/varunganti/opt/anaconda3/lib/python3.7/site-packages/sklearn/linear_model/logistic.py:432: FutureWarning: Default solver will be changed to 'lbfgs' in 0.22. Specify a solver to silence this warning.\n",
      "  FutureWarning)\n",
      "/Users/varunganti/opt/anaconda3/lib/python3.7/site-packages/sklearn/linear_model/logistic.py:469: FutureWarning: Default multi_class will be changed to 'auto' in 0.22. Specify the multi_class option to silence this warning.\n",
      "  \"this warning.\", FutureWarning)\n",
      "/Users/varunganti/opt/anaconda3/lib/python3.7/site-packages/sklearn/linear_model/logistic.py:432: FutureWarning: Default solver will be changed to 'lbfgs' in 0.22. Specify a solver to silence this warning.\n",
      "  FutureWarning)\n",
      "/Users/varunganti/opt/anaconda3/lib/python3.7/site-packages/sklearn/linear_model/logistic.py:469: FutureWarning: Default multi_class will be changed to 'auto' in 0.22. Specify the multi_class option to silence this warning.\n",
      "  \"this warning.\", FutureWarning)\n"
     ]
    },
    {
     "data": {
      "text/plain": [
       "0.8488334002934618"
      ]
     },
     "execution_count": 187,
     "metadata": {},
     "output_type": "execute_result"
    }
   ],
   "source": [
    "cross_val_score(logreg, X_train, y_train, cv = 3).mean()\n"
   ]
  },
  {
   "cell_type": "code",
   "execution_count": 188,
   "metadata": {},
   "outputs": [
    {
     "name": "stderr",
     "output_type": "stream",
     "text": [
      "/Users/varunganti/opt/anaconda3/lib/python3.7/site-packages/sklearn/linear_model/logistic.py:432: FutureWarning: Default solver will be changed to 'lbfgs' in 0.22. Specify a solver to silence this warning.\n",
      "  FutureWarning)\n",
      "/Users/varunganti/opt/anaconda3/lib/python3.7/site-packages/sklearn/linear_model/logistic.py:469: FutureWarning: Default multi_class will be changed to 'auto' in 0.22. Specify the multi_class option to silence this warning.\n",
      "  \"this warning.\", FutureWarning)\n",
      "/Users/varunganti/opt/anaconda3/lib/python3.7/site-packages/sklearn/svm/base.py:929: ConvergenceWarning: Liblinear failed to converge, increase the number of iterations.\n",
      "  \"the number of iterations.\", ConvergenceWarning)\n",
      "/Users/varunganti/opt/anaconda3/lib/python3.7/site-packages/sklearn/linear_model/logistic.py:432: FutureWarning: Default solver will be changed to 'lbfgs' in 0.22. Specify a solver to silence this warning.\n",
      "  FutureWarning)\n",
      "/Users/varunganti/opt/anaconda3/lib/python3.7/site-packages/sklearn/linear_model/logistic.py:469: FutureWarning: Default multi_class will be changed to 'auto' in 0.22. Specify the multi_class option to silence this warning.\n",
      "  \"this warning.\", FutureWarning)\n",
      "/Users/varunganti/opt/anaconda3/lib/python3.7/site-packages/sklearn/linear_model/logistic.py:432: FutureWarning: Default solver will be changed to 'lbfgs' in 0.22. Specify a solver to silence this warning.\n",
      "  FutureWarning)\n",
      "/Users/varunganti/opt/anaconda3/lib/python3.7/site-packages/sklearn/linear_model/logistic.py:469: FutureWarning: Default multi_class will be changed to 'auto' in 0.22. Specify the multi_class option to silence this warning.\n",
      "  \"this warning.\", FutureWarning)\n"
     ]
    },
    {
     "data": {
      "text/plain": [
       "0.8362142444022588"
      ]
     },
     "execution_count": 188,
     "metadata": {},
     "output_type": "execute_result"
    }
   ],
   "source": [
    "cross_val_score(logreg, X_test, y_test, cv = 3).mean()\n"
   ]
  },
  {
   "cell_type": "code",
   "execution_count": 189,
   "metadata": {},
   "outputs": [],
   "source": [
    "coefficients_Q1 = pd.concat([pd.DataFrame(X.columns),pd.DataFrame(np.transpose(logreg.coef_))], axis = 1)"
   ]
  },
  {
   "cell_type": "code",
   "execution_count": 190,
   "metadata": {
    "scrolled": true
   },
   "outputs": [
    {
     "data": {
      "text/html": [
       "<div>\n",
       "<style scoped>\n",
       "    .dataframe tbody tr th:only-of-type {\n",
       "        vertical-align: middle;\n",
       "    }\n",
       "\n",
       "    .dataframe tbody tr th {\n",
       "        vertical-align: top;\n",
       "    }\n",
       "\n",
       "    .dataframe thead th {\n",
       "        text-align: right;\n",
       "    }\n",
       "</style>\n",
       "<table border=\"1\" class=\"dataframe\">\n",
       "  <thead>\n",
       "    <tr style=\"text-align: right;\">\n",
       "      <th></th>\n",
       "      <th>0</th>\n",
       "      <th>0</th>\n",
       "      <th>1</th>\n",
       "      <th>2</th>\n",
       "    </tr>\n",
       "  </thead>\n",
       "  <tbody>\n",
       "    <tr>\n",
       "      <th>0</th>\n",
       "      <td>Q1</td>\n",
       "      <td>-0.007402</td>\n",
       "      <td>-0.034197</td>\n",
       "      <td>0.085131</td>\n",
       "    </tr>\n",
       "    <tr>\n",
       "      <th>1</th>\n",
       "      <td>Q2</td>\n",
       "      <td>0.005488</td>\n",
       "      <td>0.000000</td>\n",
       "      <td>-0.011887</td>\n",
       "    </tr>\n",
       "    <tr>\n",
       "      <th>2</th>\n",
       "      <td>Q3</td>\n",
       "      <td>-0.055208</td>\n",
       "      <td>0.009762</td>\n",
       "      <td>0.136528</td>\n",
       "    </tr>\n",
       "    <tr>\n",
       "      <th>3</th>\n",
       "      <td>Q4</td>\n",
       "      <td>-0.007980</td>\n",
       "      <td>-0.059486</td>\n",
       "      <td>0.209335</td>\n",
       "    </tr>\n",
       "    <tr>\n",
       "      <th>4</th>\n",
       "      <td>Q5</td>\n",
       "      <td>-0.046235</td>\n",
       "      <td>0.083648</td>\n",
       "      <td>-0.041711</td>\n",
       "    </tr>\n",
       "    <tr>\n",
       "      <th>5</th>\n",
       "      <td>Q6</td>\n",
       "      <td>0.031252</td>\n",
       "      <td>0.014477</td>\n",
       "      <td>-0.127875</td>\n",
       "    </tr>\n",
       "    <tr>\n",
       "      <th>6</th>\n",
       "      <td>Q7</td>\n",
       "      <td>-0.038115</td>\n",
       "      <td>0.000000</td>\n",
       "      <td>0.111635</td>\n",
       "    </tr>\n",
       "    <tr>\n",
       "      <th>7</th>\n",
       "      <td>Q8</td>\n",
       "      <td>0.100319</td>\n",
       "      <td>-0.132278</td>\n",
       "      <td>-0.018791</td>\n",
       "    </tr>\n",
       "    <tr>\n",
       "      <th>8</th>\n",
       "      <td>Q9</td>\n",
       "      <td>0.052853</td>\n",
       "      <td>-0.112367</td>\n",
       "      <td>0.088697</td>\n",
       "    </tr>\n",
       "    <tr>\n",
       "      <th>9</th>\n",
       "      <td>Q10</td>\n",
       "      <td>0.035421</td>\n",
       "      <td>0.035040</td>\n",
       "      <td>-0.234648</td>\n",
       "    </tr>\n",
       "    <tr>\n",
       "      <th>10</th>\n",
       "      <td>Q11</td>\n",
       "      <td>-0.034112</td>\n",
       "      <td>0.031593</td>\n",
       "      <td>0.026693</td>\n",
       "    </tr>\n",
       "    <tr>\n",
       "      <th>11</th>\n",
       "      <td>Q12</td>\n",
       "      <td>0.000356</td>\n",
       "      <td>0.000141</td>\n",
       "      <td>-0.001879</td>\n",
       "    </tr>\n",
       "    <tr>\n",
       "      <th>12</th>\n",
       "      <td>Q13</td>\n",
       "      <td>0.005015</td>\n",
       "      <td>-0.028345</td>\n",
       "      <td>0.041220</td>\n",
       "    </tr>\n",
       "    <tr>\n",
       "      <th>13</th>\n",
       "      <td>Q14</td>\n",
       "      <td>0.046161</td>\n",
       "      <td>-0.028832</td>\n",
       "      <td>-0.108454</td>\n",
       "    </tr>\n",
       "    <tr>\n",
       "      <th>14</th>\n",
       "      <td>Q15</td>\n",
       "      <td>0.036621</td>\n",
       "      <td>-0.010618</td>\n",
       "      <td>-0.065525</td>\n",
       "    </tr>\n",
       "    <tr>\n",
       "      <th>15</th>\n",
       "      <td>Q16</td>\n",
       "      <td>-0.047963</td>\n",
       "      <td>0.073910</td>\n",
       "      <td>-0.024394</td>\n",
       "    </tr>\n",
       "    <tr>\n",
       "      <th>16</th>\n",
       "      <td>Q17</td>\n",
       "      <td>-0.055744</td>\n",
       "      <td>0.055448</td>\n",
       "      <td>0.038697</td>\n",
       "    </tr>\n",
       "    <tr>\n",
       "      <th>17</th>\n",
       "      <td>Q18</td>\n",
       "      <td>0.040811</td>\n",
       "      <td>-0.020517</td>\n",
       "      <td>-0.077537</td>\n",
       "    </tr>\n",
       "    <tr>\n",
       "      <th>18</th>\n",
       "      <td>Q19</td>\n",
       "      <td>0.000100</td>\n",
       "      <td>-0.021533</td>\n",
       "      <td>0.038246</td>\n",
       "    </tr>\n",
       "    <tr>\n",
       "      <th>19</th>\n",
       "      <td>Q20</td>\n",
       "      <td>0.005049</td>\n",
       "      <td>-0.006426</td>\n",
       "      <td>-0.010618</td>\n",
       "    </tr>\n",
       "    <tr>\n",
       "      <th>20</th>\n",
       "      <td>Q21</td>\n",
       "      <td>0.070733</td>\n",
       "      <td>-0.031304</td>\n",
       "      <td>-0.173373</td>\n",
       "    </tr>\n",
       "    <tr>\n",
       "      <th>21</th>\n",
       "      <td>Q22</td>\n",
       "      <td>0.066754</td>\n",
       "      <td>-0.093048</td>\n",
       "      <td>-0.013182</td>\n",
       "    </tr>\n",
       "    <tr>\n",
       "      <th>22</th>\n",
       "      <td>Q23</td>\n",
       "      <td>0.035289</td>\n",
       "      <td>-0.012566</td>\n",
       "      <td>-0.083407</td>\n",
       "    </tr>\n",
       "    <tr>\n",
       "      <th>23</th>\n",
       "      <td>Q24</td>\n",
       "      <td>0.025252</td>\n",
       "      <td>-0.018737</td>\n",
       "      <td>-0.040648</td>\n",
       "    </tr>\n",
       "    <tr>\n",
       "      <th>24</th>\n",
       "      <td>Q25</td>\n",
       "      <td>-0.046039</td>\n",
       "      <td>0.033432</td>\n",
       "      <td>0.050094</td>\n",
       "    </tr>\n",
       "    <tr>\n",
       "      <th>25</th>\n",
       "      <td>Q26</td>\n",
       "      <td>-0.085761</td>\n",
       "      <td>0.120571</td>\n",
       "      <td>-0.034649</td>\n",
       "    </tr>\n",
       "    <tr>\n",
       "      <th>26</th>\n",
       "      <td>Q27</td>\n",
       "      <td>-0.122149</td>\n",
       "      <td>0.080195</td>\n",
       "      <td>0.170739</td>\n",
       "    </tr>\n",
       "    <tr>\n",
       "      <th>27</th>\n",
       "      <td>Q28</td>\n",
       "      <td>-0.056198</td>\n",
       "      <td>0.019097</td>\n",
       "      <td>0.137850</td>\n",
       "    </tr>\n",
       "    <tr>\n",
       "      <th>28</th>\n",
       "      <td>Q29</td>\n",
       "      <td>-0.019979</td>\n",
       "      <td>0.027146</td>\n",
       "      <td>-0.016350</td>\n",
       "    </tr>\n",
       "    <tr>\n",
       "      <th>29</th>\n",
       "      <td>Q30</td>\n",
       "      <td>0.006638</td>\n",
       "      <td>0.037407</td>\n",
       "      <td>-0.100404</td>\n",
       "    </tr>\n",
       "    <tr>\n",
       "      <th>30</th>\n",
       "      <td>Q31</td>\n",
       "      <td>-0.012560</td>\n",
       "      <td>0.031553</td>\n",
       "      <td>-0.064719</td>\n",
       "    </tr>\n",
       "    <tr>\n",
       "      <th>31</th>\n",
       "      <td>Q32</td>\n",
       "      <td>0.038415</td>\n",
       "      <td>-0.052829</td>\n",
       "      <td>0.000000</td>\n",
       "    </tr>\n",
       "    <tr>\n",
       "      <th>32</th>\n",
       "      <td>Q33</td>\n",
       "      <td>-0.007692</td>\n",
       "      <td>-0.025226</td>\n",
       "      <td>0.096844</td>\n",
       "    </tr>\n",
       "    <tr>\n",
       "      <th>33</th>\n",
       "      <td>Q34</td>\n",
       "      <td>0.003473</td>\n",
       "      <td>-0.045114</td>\n",
       "      <td>0.109017</td>\n",
       "    </tr>\n",
       "    <tr>\n",
       "      <th>34</th>\n",
       "      <td>Q35</td>\n",
       "      <td>-0.085767</td>\n",
       "      <td>-0.016016</td>\n",
       "      <td>0.352258</td>\n",
       "    </tr>\n",
       "    <tr>\n",
       "      <th>35</th>\n",
       "      <td>Q36</td>\n",
       "      <td>0.072412</td>\n",
       "      <td>-0.039279</td>\n",
       "      <td>-0.133395</td>\n",
       "    </tr>\n",
       "    <tr>\n",
       "      <th>36</th>\n",
       "      <td>Q37</td>\n",
       "      <td>0.012187</td>\n",
       "      <td>0.000000</td>\n",
       "      <td>-0.052321</td>\n",
       "    </tr>\n",
       "    <tr>\n",
       "      <th>37</th>\n",
       "      <td>Q38</td>\n",
       "      <td>-0.038903</td>\n",
       "      <td>0.041089</td>\n",
       "      <td>0.006693</td>\n",
       "    </tr>\n",
       "    <tr>\n",
       "      <th>38</th>\n",
       "      <td>Q39</td>\n",
       "      <td>0.103324</td>\n",
       "      <td>-0.069115</td>\n",
       "      <td>-0.148328</td>\n",
       "    </tr>\n",
       "    <tr>\n",
       "      <th>39</th>\n",
       "      <td>Q40</td>\n",
       "      <td>-0.017572</td>\n",
       "      <td>-0.017852</td>\n",
       "      <td>0.124284</td>\n",
       "    </tr>\n",
       "    <tr>\n",
       "      <th>40</th>\n",
       "      <td>Q41</td>\n",
       "      <td>0.057459</td>\n",
       "      <td>-0.044282</td>\n",
       "      <td>-0.071405</td>\n",
       "    </tr>\n",
       "    <tr>\n",
       "      <th>41</th>\n",
       "      <td>Q42</td>\n",
       "      <td>0.019858</td>\n",
       "      <td>-0.043035</td>\n",
       "      <td>0.030012</td>\n",
       "    </tr>\n",
       "    <tr>\n",
       "      <th>42</th>\n",
       "      <td>Q43</td>\n",
       "      <td>0.086958</td>\n",
       "      <td>-0.108189</td>\n",
       "      <td>0.001854</td>\n",
       "    </tr>\n",
       "    <tr>\n",
       "      <th>43</th>\n",
       "      <td>Q44</td>\n",
       "      <td>-0.030221</td>\n",
       "      <td>-0.005446</td>\n",
       "      <td>0.130036</td>\n",
       "    </tr>\n",
       "    <tr>\n",
       "      <th>44</th>\n",
       "      <td>introelapse</td>\n",
       "      <td>0.000140</td>\n",
       "      <td>-0.000446</td>\n",
       "      <td>-0.000017</td>\n",
       "    </tr>\n",
       "    <tr>\n",
       "      <th>45</th>\n",
       "      <td>testelapse</td>\n",
       "      <td>0.000025</td>\n",
       "      <td>-0.000016</td>\n",
       "      <td>-0.000135</td>\n",
       "    </tr>\n",
       "    <tr>\n",
       "      <th>46</th>\n",
       "      <td>fromgoogle</td>\n",
       "      <td>0.065821</td>\n",
       "      <td>-0.184269</td>\n",
       "      <td>0.187112</td>\n",
       "    </tr>\n",
       "    <tr>\n",
       "      <th>47</th>\n",
       "      <td>engnat</td>\n",
       "      <td>0.334228</td>\n",
       "      <td>-0.262948</td>\n",
       "      <td>-0.404524</td>\n",
       "    </tr>\n",
       "    <tr>\n",
       "      <th>48</th>\n",
       "      <td>age</td>\n",
       "      <td>0.003959</td>\n",
       "      <td>-0.001958</td>\n",
       "      <td>-0.015928</td>\n",
       "    </tr>\n",
       "    <tr>\n",
       "      <th>49</th>\n",
       "      <td>education</td>\n",
       "      <td>-0.003663</td>\n",
       "      <td>0.061278</td>\n",
       "      <td>-0.146190</td>\n",
       "    </tr>\n",
       "    <tr>\n",
       "      <th>50</th>\n",
       "      <td>gender</td>\n",
       "      <td>0.138727</td>\n",
       "      <td>-0.253162</td>\n",
       "      <td>0.034787</td>\n",
       "    </tr>\n",
       "    <tr>\n",
       "      <th>51</th>\n",
       "      <td>orientation</td>\n",
       "      <td>-0.132553</td>\n",
       "      <td>0.055104</td>\n",
       "      <td>0.252472</td>\n",
       "    </tr>\n",
       "    <tr>\n",
       "      <th>52</th>\n",
       "      <td>race</td>\n",
       "      <td>0.063806</td>\n",
       "      <td>-0.009673</td>\n",
       "      <td>-0.149647</td>\n",
       "    </tr>\n",
       "    <tr>\n",
       "      <th>53</th>\n",
       "      <td>religion</td>\n",
       "      <td>-0.004542</td>\n",
       "      <td>-0.019227</td>\n",
       "      <td>0.044699</td>\n",
       "    </tr>\n",
       "  </tbody>\n",
       "</table>\n",
       "</div>"
      ],
      "text/plain": [
       "              0         0         1         2\n",
       "0            Q1 -0.007402 -0.034197  0.085131\n",
       "1            Q2  0.005488  0.000000 -0.011887\n",
       "2            Q3 -0.055208  0.009762  0.136528\n",
       "3            Q4 -0.007980 -0.059486  0.209335\n",
       "4            Q5 -0.046235  0.083648 -0.041711\n",
       "5            Q6  0.031252  0.014477 -0.127875\n",
       "6            Q7 -0.038115  0.000000  0.111635\n",
       "7            Q8  0.100319 -0.132278 -0.018791\n",
       "8            Q9  0.052853 -0.112367  0.088697\n",
       "9           Q10  0.035421  0.035040 -0.234648\n",
       "10          Q11 -0.034112  0.031593  0.026693\n",
       "11          Q12  0.000356  0.000141 -0.001879\n",
       "12          Q13  0.005015 -0.028345  0.041220\n",
       "13          Q14  0.046161 -0.028832 -0.108454\n",
       "14          Q15  0.036621 -0.010618 -0.065525\n",
       "15          Q16 -0.047963  0.073910 -0.024394\n",
       "16          Q17 -0.055744  0.055448  0.038697\n",
       "17          Q18  0.040811 -0.020517 -0.077537\n",
       "18          Q19  0.000100 -0.021533  0.038246\n",
       "19          Q20  0.005049 -0.006426 -0.010618\n",
       "20          Q21  0.070733 -0.031304 -0.173373\n",
       "21          Q22  0.066754 -0.093048 -0.013182\n",
       "22          Q23  0.035289 -0.012566 -0.083407\n",
       "23          Q24  0.025252 -0.018737 -0.040648\n",
       "24          Q25 -0.046039  0.033432  0.050094\n",
       "25          Q26 -0.085761  0.120571 -0.034649\n",
       "26          Q27 -0.122149  0.080195  0.170739\n",
       "27          Q28 -0.056198  0.019097  0.137850\n",
       "28          Q29 -0.019979  0.027146 -0.016350\n",
       "29          Q30  0.006638  0.037407 -0.100404\n",
       "30          Q31 -0.012560  0.031553 -0.064719\n",
       "31          Q32  0.038415 -0.052829  0.000000\n",
       "32          Q33 -0.007692 -0.025226  0.096844\n",
       "33          Q34  0.003473 -0.045114  0.109017\n",
       "34          Q35 -0.085767 -0.016016  0.352258\n",
       "35          Q36  0.072412 -0.039279 -0.133395\n",
       "36          Q37  0.012187  0.000000 -0.052321\n",
       "37          Q38 -0.038903  0.041089  0.006693\n",
       "38          Q39  0.103324 -0.069115 -0.148328\n",
       "39          Q40 -0.017572 -0.017852  0.124284\n",
       "40          Q41  0.057459 -0.044282 -0.071405\n",
       "41          Q42  0.019858 -0.043035  0.030012\n",
       "42          Q43  0.086958 -0.108189  0.001854\n",
       "43          Q44 -0.030221 -0.005446  0.130036\n",
       "44  introelapse  0.000140 -0.000446 -0.000017\n",
       "45   testelapse  0.000025 -0.000016 -0.000135\n",
       "46   fromgoogle  0.065821 -0.184269  0.187112\n",
       "47       engnat  0.334228 -0.262948 -0.404524\n",
       "48          age  0.003959 -0.001958 -0.015928\n",
       "49    education -0.003663  0.061278 -0.146190\n",
       "50       gender  0.138727 -0.253162  0.034787\n",
       "51  orientation -0.132553  0.055104  0.252472\n",
       "52         race  0.063806 -0.009673 -0.149647\n",
       "53     religion -0.004542 -0.019227  0.044699"
      ]
     },
     "execution_count": 190,
     "metadata": {},
     "output_type": "execute_result"
    }
   ],
   "source": [
    "coefficients_Q1"
   ]
  },
  {
   "cell_type": "code",
   "execution_count": 192,
   "metadata": {},
   "outputs": [
    {
     "data": {
      "text/plain": [
       "0.9663811088056983"
      ]
     },
     "execution_count": 192,
     "metadata": {},
     "output_type": "execute_result"
    }
   ],
   "source": [
    "np.exp(-0.034197)\n"
   ]
  },
  {
   "cell_type": "code",
   "execution_count": 193,
   "metadata": {},
   "outputs": [
    {
     "data": {
      "text/plain": [
       "-1.382356477800073"
      ]
     },
     "execution_count": 193,
     "metadata": {},
     "output_type": "execute_result"
    }
   ],
   "source": [
    "100 * ((np.exp(-0.01392)) - 1)\n"
   ]
  },
  {
   "cell_type": "markdown",
   "metadata": {},
   "source": [
    "For every unit of increase of Q1 . there is a 1.3% less chance of being left handed"
   ]
  },
  {
   "cell_type": "markdown",
   "metadata": {},
   "source": [
    "### 26. If you have to select one model overall to be your *best* model, which model would you select? Why?\n",
    "- Usually in the \"real world,\" you'll fit many types of models but ultimately need to pick only one! (For example, a client may not understand what it means to have multiple models, or if you're using an algorithm to make a decision, it's probably pretty challenging to use two or more algorithms simultaneously.) It's not always an easy choice, but you'll have to make it soon enough. Pick a model and defend why you picked this model!"
   ]
  },
  {
   "cell_type": "markdown",
   "metadata": {},
   "source": [
    "Answer:\n",
    "\n",
    "Neighbors = 5 model. KNN is the highest Cross val score so far. Well see if it overfits"
   ]
  },
  {
   "cell_type": "markdown",
   "metadata": {},
   "source": [
    "### 27. Circle back to the three specific and conclusively answerable questions you came up with in Q1. Answer one of these for the professor based on the model you selected!"
   ]
  },
  {
   "cell_type": "markdown",
   "metadata": {},
   "source": [
    "Answer:\n",
    "For every unit of religion, there is a less likely chance to be left handed. So as religion gets involved, the more likely someone is right handed. A lot of the data is inconclusive, need to dive deeper"
   ]
  },
  {
   "cell_type": "code",
   "execution_count": 194,
   "metadata": {
    "scrolled": true
   },
   "outputs": [
    {
     "data": {
      "text/plain": [
       "0.9809566598052598"
      ]
     },
     "execution_count": 194,
     "metadata": {},
     "output_type": "execute_result"
    }
   ],
   "source": [
    "np.exp(-0.019227)"
   ]
  },
  {
   "cell_type": "code",
   "execution_count": 195,
   "metadata": {},
   "outputs": [
    {
     "data": {
      "text/plain": [
       "-1.382356477800073"
      ]
     },
     "execution_count": 195,
     "metadata": {},
     "output_type": "execute_result"
    }
   ],
   "source": [
    "100 * ((np.exp(-0.01392)) - 1)\n"
   ]
  },
  {
   "cell_type": "markdown",
   "metadata": {},
   "source": [
    "### BONUS:\n",
    "Looking for more to do? Probably not - you're busy! But if you want to, consider exploring the following. (They could make for a blog post!)\n",
    "- Create a visual plot comparing training and test metrics for various values of $k$ and various regularization schemes in logistic regression.\n",
    "- Rather than just evaluating models based on accuracy, consider using sensitivity, specificity, etc.\n",
    "- In the context of predicting left-handedness, why are unbalanced classes concerning? If you were to re-do this process given those concerns, what changes might you make?\n",
    "- Fit and evaluate a generalized linear model other than logistic regression (e.g. Poisson regression).\n",
    "- Suppose this data were in a `SQL` database named `data` and a table named `inventory`. What `SQL` query would return the count of people who were right-handed, left-handed, both, or missing with their class labels of 1, 2, 3, and 0, respectively? (You can assume you've already logged into the database.)"
   ]
  },
  {
   "cell_type": "code",
   "execution_count": null,
   "metadata": {
    "collapsed": true
   },
   "outputs": [],
   "source": []
  }
 ],
 "metadata": {
  "kernelspec": {
   "display_name": "Python 3",
   "language": "python",
   "name": "python3"
  },
  "language_info": {
   "codemirror_mode": {
    "name": "ipython",
    "version": 3
   },
   "file_extension": ".py",
   "mimetype": "text/x-python",
   "name": "python",
   "nbconvert_exporter": "python",
   "pygments_lexer": "ipython3",
   "version": "3.7.4"
  }
 },
 "nbformat": 4,
 "nbformat_minor": 2
}
